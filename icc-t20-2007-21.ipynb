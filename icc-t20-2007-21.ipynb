{
 "cells": [
  {
   "cell_type": "code",
   "execution_count": 1,
   "metadata": {
    "_cell_guid": "b1076dfc-b9ad-4769-8c92-a6c4dae69d19",
    "_uuid": "8f2839f25d086af736a60e9eeb907d3b93b6e0e5",
    "execution": {
     "iopub.execute_input": "2022-10-21T06:22:22.186516Z",
     "iopub.status.busy": "2022-10-21T06:22:22.186098Z",
     "iopub.status.idle": "2022-10-21T06:22:22.212071Z",
     "shell.execute_reply": "2022-10-21T06:22:22.210836Z",
     "shell.execute_reply.started": "2022-10-21T06:22:22.186482Z"
    }
   },
   "outputs": [],
   "source": [
    "# This Python 3 environment comes with many helpful analytics libraries installed\n",
    "# It is defined by the kaggle/python Docker image: https://github.com/kaggle/docker-python\n",
    "# For example, here's several helpful packages to load\n",
    "\n",
    "import numpy as np # linear algebra\n",
    "import pandas as pd # data processing, CSV file I/O (e.g. pd.read_csv)\n",
    "\n",
    "# Input data files are available in the read-only \"../input/\" directory\n",
    "# For example, running this (by clicking run or pressing Shift+Enter) will list all files under the input directory\n",
    "\n",
    "import os\n",
    "for dirname, _, filenames in os.walk('/kaggle/input'):\n",
    "    for filename in filenames:\n",
    "        print(os.path.join(dirname, filename))\n",
    "\n",
    "# You can write up to 20GB to the current directory (/kaggle/working/) that gets preserved as output when you create a version using \"Save & Run All\" \n",
    "# You can also write temporary files to /kaggle/temp/, but they won't be saved outside of the current session"
   ]
  },
  {
   "cell_type": "code",
   "execution_count": 2,
   "metadata": {
    "execution": {
     "iopub.execute_input": "2022-10-21T06:28:56.827232Z",
     "iopub.status.busy": "2022-10-21T06:28:56.826816Z",
     "iopub.status.idle": "2022-10-21T06:28:56.902291Z",
     "shell.execute_reply": "2022-10-21T06:28:56.901065Z",
     "shell.execute_reply.started": "2022-10-21T06:28:56.827194Z"
    }
   },
   "outputs": [],
   "source": [
    "import pandas as pd \n",
    "import numpy as np\n",
    "import matplotlib.pyplot as plt\n",
    "import seaborn as sns\n",
    "from sklearn.preprocessing import LabelEncoder\n",
    "from sklearn.preprocessing import StandardScaler\n",
    "from sklearn.model_selection import train_test_split\n",
    "from sklearn import linear_model"
   ]
  },
  {
   "cell_type": "code",
   "execution_count": 3,
   "metadata": {
    "execution": {
     "iopub.execute_input": "2022-10-21T06:22:25.206074Z",
     "iopub.status.busy": "2022-10-21T06:22:25.205545Z",
     "iopub.status.idle": "2022-10-21T06:22:25.239435Z",
     "shell.execute_reply": "2022-10-21T06:22:25.238211Z",
     "shell.execute_reply.started": "2022-10-21T06:22:25.206027Z"
    }
   },
   "outputs": [],
   "source": [
    "df_2007 = pd.read_csv(\"T20 World Cup 2007 matches.csv\")\n",
    "df_2010 = pd.read_csv(\"T20 World Cup 2010 matches.csv\")\n",
    "df_2016 = pd.read_csv(\"T20 World Cup 2016 matches.csv\")\n",
    "df_2012 = pd.read_csv(\"T20 World Cup 2012 matches.csv\")\n",
    "df_2014 = pd.read_csv(\"T20 World Cup 2014 matches.csv\")\n",
    "df_2009 = pd.read_csv(\"T20 World Cup 2009 matches.csv\")\n",
    "df_2021 = pd.read_csv(\"T20 World Cup 2021 matches.csv\")"
   ]
  },
  {
   "cell_type": "code",
   "execution_count": 4,
   "metadata": {
    "execution": {
     "iopub.execute_input": "2022-10-21T05:59:42.312664Z",
     "iopub.status.busy": "2022-10-21T05:59:42.312241Z",
     "iopub.status.idle": "2022-10-21T05:59:42.330133Z",
     "shell.execute_reply": "2022-10-21T05:59:42.328959Z",
     "shell.execute_reply.started": "2022-10-21T05:59:42.312628Z"
    }
   },
   "outputs": [
    {
     "data": {
      "text/html": [
       "<div>\n",
       "<style scoped>\n",
       "    .dataframe tbody tr th:only-of-type {\n",
       "        vertical-align: middle;\n",
       "    }\n",
       "\n",
       "    .dataframe tbody tr th {\n",
       "        vertical-align: top;\n",
       "    }\n",
       "\n",
       "    .dataframe thead th {\n",
       "        text-align: right;\n",
       "    }\n",
       "</style>\n",
       "<table border=\"1\" class=\"dataframe\">\n",
       "  <thead>\n",
       "    <tr style=\"text-align: right;\">\n",
       "      <th></th>\n",
       "      <th>Match No</th>\n",
       "      <th>Date</th>\n",
       "      <th>Group/Semi Final/Final</th>\n",
       "      <th>Match Between</th>\n",
       "      <th>Venue</th>\n",
       "      <th>Winning Team Score</th>\n",
       "      <th>Losing Team Score</th>\n",
       "      <th>Winner Team</th>\n",
       "      <th>Result</th>\n",
       "      <th>Player Of The Match</th>\n",
       "    </tr>\n",
       "  </thead>\n",
       "  <tbody>\n",
       "    <tr>\n",
       "      <th>0</th>\n",
       "      <td>1</td>\n",
       "      <td>2007-11-09</td>\n",
       "      <td>Group A</td>\n",
       "      <td>South Africa vs West Indies</td>\n",
       "      <td>The Wanderers Stadium, Johannesburg</td>\n",
       "      <td>208/2(17.4 overs)</td>\n",
       "      <td>205/6(20 overs)</td>\n",
       "      <td>South Africa</td>\n",
       "      <td>South Africa won by 8 wickets</td>\n",
       "      <td>Chris Gayle</td>\n",
       "    </tr>\n",
       "    <tr>\n",
       "      <th>1</th>\n",
       "      <td>2</td>\n",
       "      <td>2007-12-09</td>\n",
       "      <td>Group C</td>\n",
       "      <td>Kenya vs New Zealand</td>\n",
       "      <td>Kingsmead, Durban</td>\n",
       "      <td>74/1(7.4 overs)</td>\n",
       "      <td>73(16.5 overs)</td>\n",
       "      <td>New Zealand</td>\n",
       "      <td>New Zealand won by 9 wickets</td>\n",
       "      <td>Mark Gillespie</td>\n",
       "    </tr>\n",
       "    <tr>\n",
       "      <th>2</th>\n",
       "      <td>3</td>\n",
       "      <td>2007-12-09</td>\n",
       "      <td>Group D</td>\n",
       "      <td>Pakistan vs Scotland</td>\n",
       "      <td>Kingsmead, Durban</td>\n",
       "      <td>171/9(20 overs)</td>\n",
       "      <td>120(19.5 overs)</td>\n",
       "      <td>Pakistan</td>\n",
       "      <td>Pakistan won by 51 runs</td>\n",
       "      <td>Shahid Afridi</td>\n",
       "    </tr>\n",
       "    <tr>\n",
       "      <th>3</th>\n",
       "      <td>4</td>\n",
       "      <td>2007-12-09</td>\n",
       "      <td>Group B</td>\n",
       "      <td>Australia vs Zimbabwe</td>\n",
       "      <td>Newlands, Cape Town</td>\n",
       "      <td>139/5(19.5 overs)</td>\n",
       "      <td>138/9(20 overs)</td>\n",
       "      <td>Zimbabwe</td>\n",
       "      <td>Zimbabwe won by 5 wickets</td>\n",
       "      <td>Brendan Taylor</td>\n",
       "    </tr>\n",
       "    <tr>\n",
       "      <th>4</th>\n",
       "      <td>5</td>\n",
       "      <td>2007-09-13</td>\n",
       "      <td>Group A</td>\n",
       "      <td>Bangladesh vs West Indies</td>\n",
       "      <td>The Wanderers Stadium, Johannesburg</td>\n",
       "      <td>165/4(18 overs)</td>\n",
       "      <td>164/8(20 overs)</td>\n",
       "      <td>Bangladesh</td>\n",
       "      <td>Bangladesh won by 6 wickets</td>\n",
       "      <td>Mohammad Ashraful</td>\n",
       "    </tr>\n",
       "  </tbody>\n",
       "</table>\n",
       "</div>"
      ],
      "text/plain": [
       "   Match No        Date Group/Semi Final/Final                Match Between  \\\n",
       "0         1  2007-11-09                Group A  South Africa vs West Indies   \n",
       "1         2  2007-12-09                Group C         Kenya vs New Zealand   \n",
       "2         3  2007-12-09                Group D         Pakistan vs Scotland   \n",
       "3         4  2007-12-09                Group B        Australia vs Zimbabwe   \n",
       "4         5  2007-09-13                Group A    Bangladesh vs West Indies   \n",
       "\n",
       "                                 Venue Winning Team Score Losing Team Score  \\\n",
       "0  The Wanderers Stadium, Johannesburg  208/2(17.4 overs)   205/6(20 overs)   \n",
       "1                    Kingsmead, Durban    74/1(7.4 overs)    73(16.5 overs)   \n",
       "2                    Kingsmead, Durban    171/9(20 overs)   120(19.5 overs)   \n",
       "3                  Newlands, Cape Town  139/5(19.5 overs)   138/9(20 overs)   \n",
       "4  The Wanderers Stadium, Johannesburg    165/4(18 overs)   164/8(20 overs)   \n",
       "\n",
       "    Winner Team                         Result Player Of The Match  \n",
       "0  South Africa  South Africa won by 8 wickets         Chris Gayle  \n",
       "1   New Zealand   New Zealand won by 9 wickets      Mark Gillespie  \n",
       "2      Pakistan        Pakistan won by 51 runs       Shahid Afridi  \n",
       "3      Zimbabwe      Zimbabwe won by 5 wickets      Brendan Taylor  \n",
       "4    Bangladesh    Bangladesh won by 6 wickets   Mohammad Ashraful  "
      ]
     },
     "execution_count": 4,
     "metadata": {},
     "output_type": "execute_result"
    }
   ],
   "source": [
    "df_2007.head()"
   ]
  },
  {
   "cell_type": "code",
   "execution_count": 5,
   "metadata": {
    "execution": {
     "iopub.execute_input": "2022-10-21T05:59:42.788274Z",
     "iopub.status.busy": "2022-10-21T05:59:42.787846Z",
     "iopub.status.idle": "2022-10-21T05:59:42.806487Z",
     "shell.execute_reply": "2022-10-21T05:59:42.805149Z",
     "shell.execute_reply.started": "2022-10-21T05:59:42.788235Z"
    }
   },
   "outputs": [],
   "source": [
    "df1 = df_2007.append(df_2009)\n",
    "df1 = df1.append(df_2010)\n",
    "df1 = df1.append(df_2012)\n",
    "df1 = df1.append(df_2014)\n",
    "df1 = df1.append(df_2016)\n",
    "df1 = df1.append(df_2021)"
   ]
  },
  {
   "cell_type": "code",
   "execution_count": 6,
   "metadata": {
    "execution": {
     "iopub.execute_input": "2022-10-21T05:59:43.174750Z",
     "iopub.status.busy": "2022-10-21T05:59:43.173479Z",
     "iopub.status.idle": "2022-10-21T05:59:43.183401Z",
     "shell.execute_reply": "2022-10-21T05:59:43.182368Z",
     "shell.execute_reply.started": "2022-10-21T05:59:43.174665Z"
    }
   },
   "outputs": [],
   "source": [
    "df1 = df1.drop([\"Group/Super Eights/Semi Final/Final\"] , axis = 1)"
   ]
  },
  {
   "cell_type": "code",
   "execution_count": 7,
   "metadata": {
    "execution": {
     "iopub.execute_input": "2022-10-21T05:59:43.587428Z",
     "iopub.status.busy": "2022-10-21T05:59:43.587054Z",
     "iopub.status.idle": "2022-10-21T05:59:43.604148Z",
     "shell.execute_reply": "2022-10-21T05:59:43.602893Z",
     "shell.execute_reply.started": "2022-10-21T05:59:43.587397Z"
    }
   },
   "outputs": [
    {
     "data": {
      "text/html": [
       "<div>\n",
       "<style scoped>\n",
       "    .dataframe tbody tr th:only-of-type {\n",
       "        vertical-align: middle;\n",
       "    }\n",
       "\n",
       "    .dataframe tbody tr th {\n",
       "        vertical-align: top;\n",
       "    }\n",
       "\n",
       "    .dataframe thead th {\n",
       "        text-align: right;\n",
       "    }\n",
       "</style>\n",
       "<table border=\"1\" class=\"dataframe\">\n",
       "  <thead>\n",
       "    <tr style=\"text-align: right;\">\n",
       "      <th></th>\n",
       "      <th>Match No</th>\n",
       "      <th>Date</th>\n",
       "      <th>Group/Semi Final/Final</th>\n",
       "      <th>Match Between</th>\n",
       "      <th>Venue</th>\n",
       "      <th>Winning Team Score</th>\n",
       "      <th>Losing Team Score</th>\n",
       "      <th>Winner Team</th>\n",
       "      <th>Result</th>\n",
       "      <th>Player Of The Match</th>\n",
       "    </tr>\n",
       "  </thead>\n",
       "  <tbody>\n",
       "    <tr>\n",
       "      <th>0</th>\n",
       "      <td>1</td>\n",
       "      <td>2007-11-09</td>\n",
       "      <td>Group A</td>\n",
       "      <td>South Africa vs West Indies</td>\n",
       "      <td>The Wanderers Stadium, Johannesburg</td>\n",
       "      <td>208/2(17.4 overs)</td>\n",
       "      <td>205/6(20 overs)</td>\n",
       "      <td>South Africa</td>\n",
       "      <td>South Africa won by 8 wickets</td>\n",
       "      <td>Chris Gayle</td>\n",
       "    </tr>\n",
       "    <tr>\n",
       "      <th>1</th>\n",
       "      <td>2</td>\n",
       "      <td>2007-12-09</td>\n",
       "      <td>Group C</td>\n",
       "      <td>Kenya vs New Zealand</td>\n",
       "      <td>Kingsmead, Durban</td>\n",
       "      <td>74/1(7.4 overs)</td>\n",
       "      <td>73(16.5 overs)</td>\n",
       "      <td>New Zealand</td>\n",
       "      <td>New Zealand won by 9 wickets</td>\n",
       "      <td>Mark Gillespie</td>\n",
       "    </tr>\n",
       "    <tr>\n",
       "      <th>2</th>\n",
       "      <td>3</td>\n",
       "      <td>2007-12-09</td>\n",
       "      <td>Group D</td>\n",
       "      <td>Pakistan vs Scotland</td>\n",
       "      <td>Kingsmead, Durban</td>\n",
       "      <td>171/9(20 overs)</td>\n",
       "      <td>120(19.5 overs)</td>\n",
       "      <td>Pakistan</td>\n",
       "      <td>Pakistan won by 51 runs</td>\n",
       "      <td>Shahid Afridi</td>\n",
       "    </tr>\n",
       "    <tr>\n",
       "      <th>3</th>\n",
       "      <td>4</td>\n",
       "      <td>2007-12-09</td>\n",
       "      <td>Group B</td>\n",
       "      <td>Australia vs Zimbabwe</td>\n",
       "      <td>Newlands, Cape Town</td>\n",
       "      <td>139/5(19.5 overs)</td>\n",
       "      <td>138/9(20 overs)</td>\n",
       "      <td>Zimbabwe</td>\n",
       "      <td>Zimbabwe won by 5 wickets</td>\n",
       "      <td>Brendan Taylor</td>\n",
       "    </tr>\n",
       "    <tr>\n",
       "      <th>4</th>\n",
       "      <td>5</td>\n",
       "      <td>2007-09-13</td>\n",
       "      <td>Group A</td>\n",
       "      <td>Bangladesh vs West Indies</td>\n",
       "      <td>The Wanderers Stadium, Johannesburg</td>\n",
       "      <td>165/4(18 overs)</td>\n",
       "      <td>164/8(20 overs)</td>\n",
       "      <td>Bangladesh</td>\n",
       "      <td>Bangladesh won by 6 wickets</td>\n",
       "      <td>Mohammad Ashraful</td>\n",
       "    </tr>\n",
       "  </tbody>\n",
       "</table>\n",
       "</div>"
      ],
      "text/plain": [
       "   Match No        Date Group/Semi Final/Final                Match Between  \\\n",
       "0         1  2007-11-09                Group A  South Africa vs West Indies   \n",
       "1         2  2007-12-09                Group C         Kenya vs New Zealand   \n",
       "2         3  2007-12-09                Group D         Pakistan vs Scotland   \n",
       "3         4  2007-12-09                Group B        Australia vs Zimbabwe   \n",
       "4         5  2007-09-13                Group A    Bangladesh vs West Indies   \n",
       "\n",
       "                                 Venue Winning Team Score Losing Team Score  \\\n",
       "0  The Wanderers Stadium, Johannesburg  208/2(17.4 overs)   205/6(20 overs)   \n",
       "1                    Kingsmead, Durban    74/1(7.4 overs)    73(16.5 overs)   \n",
       "2                    Kingsmead, Durban    171/9(20 overs)   120(19.5 overs)   \n",
       "3                  Newlands, Cape Town  139/5(19.5 overs)   138/9(20 overs)   \n",
       "4  The Wanderers Stadium, Johannesburg    165/4(18 overs)   164/8(20 overs)   \n",
       "\n",
       "    Winner Team                         Result Player Of The Match  \n",
       "0  South Africa  South Africa won by 8 wickets         Chris Gayle  \n",
       "1   New Zealand   New Zealand won by 9 wickets      Mark Gillespie  \n",
       "2      Pakistan        Pakistan won by 51 runs       Shahid Afridi  \n",
       "3      Zimbabwe      Zimbabwe won by 5 wickets      Brendan Taylor  \n",
       "4    Bangladesh    Bangladesh won by 6 wickets   Mohammad Ashraful  "
      ]
     },
     "execution_count": 7,
     "metadata": {},
     "output_type": "execute_result"
    }
   ],
   "source": [
    "df1.head()"
   ]
  },
  {
   "cell_type": "markdown",
   "metadata": {},
   "source": [
    "## DATA CLEANING\n",
    "Cleaning the features"
   ]
  },
  {
   "cell_type": "code",
   "execution_count": 8,
   "metadata": {
    "execution": {
     "iopub.execute_input": "2022-10-21T05:59:44.448787Z",
     "iopub.status.busy": "2022-10-21T05:59:44.448356Z",
     "iopub.status.idle": "2022-10-21T05:59:44.465760Z",
     "shell.execute_reply": "2022-10-21T05:59:44.464400Z",
     "shell.execute_reply.started": "2022-10-21T05:59:44.448752Z"
    }
   },
   "outputs": [
    {
     "name": "stdout",
     "output_type": "stream",
     "text": [
      "<class 'pandas.core.frame.DataFrame'>\n",
      "Int64Index: 223 entries, 0 to 44\n",
      "Data columns (total 10 columns):\n",
      " #   Column                  Non-Null Count  Dtype \n",
      "---  ------                  --------------  ----- \n",
      " 0   Match No                223 non-null    int64 \n",
      " 1   Date                    223 non-null    object\n",
      " 2   Group/Semi Final/Final  196 non-null    object\n",
      " 3   Match Between           223 non-null    object\n",
      " 4   Venue                   223 non-null    object\n",
      " 5   Winning Team Score      221 non-null    object\n",
      " 6   Losing Team Score       219 non-null    object\n",
      " 7   Winner Team             218 non-null    object\n",
      " 8   Result                  223 non-null    object\n",
      " 9   Player Of The Match     218 non-null    object\n",
      "dtypes: int64(1), object(9)\n",
      "memory usage: 19.2+ KB\n"
     ]
    }
   ],
   "source": [
    "df1.info()"
   ]
  },
  {
   "cell_type": "code",
   "execution_count": 9,
   "metadata": {
    "execution": {
     "iopub.execute_input": "2022-10-21T05:59:44.895883Z",
     "iopub.status.busy": "2022-10-21T05:59:44.895486Z",
     "iopub.status.idle": "2022-10-21T05:59:44.906067Z",
     "shell.execute_reply": "2022-10-21T05:59:44.904885Z",
     "shell.execute_reply.started": "2022-10-21T05:59:44.895850Z"
    }
   },
   "outputs": [
    {
     "data": {
      "text/plain": [
       "Match No                   0\n",
       "Date                       0\n",
       "Group/Semi Final/Final    27\n",
       "Match Between              0\n",
       "Venue                      0\n",
       "Winning Team Score         2\n",
       "Losing Team Score          4\n",
       "Winner Team                5\n",
       "Result                     0\n",
       "Player Of The Match        5\n",
       "dtype: int64"
      ]
     },
     "execution_count": 9,
     "metadata": {},
     "output_type": "execute_result"
    }
   ],
   "source": [
    "df1.isnull().sum()"
   ]
  },
  {
   "cell_type": "code",
   "execution_count": null,
   "metadata": {},
   "outputs": [],
   "source": []
  },
  {
   "cell_type": "code",
   "execution_count": 10,
   "metadata": {
    "execution": {
     "iopub.execute_input": "2022-10-21T05:59:45.942226Z",
     "iopub.status.busy": "2022-10-21T05:59:45.941826Z",
     "iopub.status.idle": "2022-10-21T05:59:45.949849Z",
     "shell.execute_reply": "2022-10-21T05:59:45.948470Z",
     "shell.execute_reply.started": "2022-10-21T05:59:45.942192Z"
    }
   },
   "outputs": [],
   "source": [
    "df1[\"Group/Semi Final/Final\"] = df1[\"Group/Semi Final/Final\"].fillna(df1[\"Group/Semi Final/Final\"].mode()[0])"
   ]
  },
  {
   "cell_type": "code",
   "execution_count": 11,
   "metadata": {
    "execution": {
     "iopub.execute_input": "2022-10-21T05:59:46.509476Z",
     "iopub.status.busy": "2022-10-21T05:59:46.509042Z",
     "iopub.status.idle": "2022-10-21T05:59:46.526250Z",
     "shell.execute_reply": "2022-10-21T05:59:46.524998Z",
     "shell.execute_reply.started": "2022-10-21T05:59:46.509438Z"
    }
   },
   "outputs": [
    {
     "data": {
      "text/html": [
       "<div>\n",
       "<style scoped>\n",
       "    .dataframe tbody tr th:only-of-type {\n",
       "        vertical-align: middle;\n",
       "    }\n",
       "\n",
       "    .dataframe tbody tr th {\n",
       "        vertical-align: top;\n",
       "    }\n",
       "\n",
       "    .dataframe thead th {\n",
       "        text-align: right;\n",
       "    }\n",
       "</style>\n",
       "<table border=\"1\" class=\"dataframe\">\n",
       "  <thead>\n",
       "    <tr style=\"text-align: right;\">\n",
       "      <th></th>\n",
       "      <th>Match No</th>\n",
       "      <th>Date</th>\n",
       "      <th>Group/Semi Final/Final</th>\n",
       "      <th>Match Between</th>\n",
       "      <th>Venue</th>\n",
       "      <th>Winning Team Score</th>\n",
       "      <th>Losing Team Score</th>\n",
       "      <th>Winner Team</th>\n",
       "      <th>Result</th>\n",
       "      <th>Player Of The Match</th>\n",
       "    </tr>\n",
       "  </thead>\n",
       "  <tbody>\n",
       "    <tr>\n",
       "      <th>0</th>\n",
       "      <td>1</td>\n",
       "      <td>2007-11-09</td>\n",
       "      <td>Group A</td>\n",
       "      <td>South Africa vs West Indies</td>\n",
       "      <td>The Wanderers Stadium, Johannesburg</td>\n",
       "      <td>208/2(17.4 overs)</td>\n",
       "      <td>205/6(20 overs)</td>\n",
       "      <td>South Africa</td>\n",
       "      <td>South Africa won by 8 wickets</td>\n",
       "      <td>Chris Gayle</td>\n",
       "    </tr>\n",
       "    <tr>\n",
       "      <th>1</th>\n",
       "      <td>2</td>\n",
       "      <td>2007-12-09</td>\n",
       "      <td>Group C</td>\n",
       "      <td>Kenya vs New Zealand</td>\n",
       "      <td>Kingsmead, Durban</td>\n",
       "      <td>74/1(7.4 overs)</td>\n",
       "      <td>73(16.5 overs)</td>\n",
       "      <td>New Zealand</td>\n",
       "      <td>New Zealand won by 9 wickets</td>\n",
       "      <td>Mark Gillespie</td>\n",
       "    </tr>\n",
       "    <tr>\n",
       "      <th>2</th>\n",
       "      <td>3</td>\n",
       "      <td>2007-12-09</td>\n",
       "      <td>Group D</td>\n",
       "      <td>Pakistan vs Scotland</td>\n",
       "      <td>Kingsmead, Durban</td>\n",
       "      <td>171/9(20 overs)</td>\n",
       "      <td>120(19.5 overs)</td>\n",
       "      <td>Pakistan</td>\n",
       "      <td>Pakistan won by 51 runs</td>\n",
       "      <td>Shahid Afridi</td>\n",
       "    </tr>\n",
       "    <tr>\n",
       "      <th>3</th>\n",
       "      <td>4</td>\n",
       "      <td>2007-12-09</td>\n",
       "      <td>Group B</td>\n",
       "      <td>Australia vs Zimbabwe</td>\n",
       "      <td>Newlands, Cape Town</td>\n",
       "      <td>139/5(19.5 overs)</td>\n",
       "      <td>138/9(20 overs)</td>\n",
       "      <td>Zimbabwe</td>\n",
       "      <td>Zimbabwe won by 5 wickets</td>\n",
       "      <td>Brendan Taylor</td>\n",
       "    </tr>\n",
       "    <tr>\n",
       "      <th>4</th>\n",
       "      <td>5</td>\n",
       "      <td>2007-09-13</td>\n",
       "      <td>Group A</td>\n",
       "      <td>Bangladesh vs West Indies</td>\n",
       "      <td>The Wanderers Stadium, Johannesburg</td>\n",
       "      <td>165/4(18 overs)</td>\n",
       "      <td>164/8(20 overs)</td>\n",
       "      <td>Bangladesh</td>\n",
       "      <td>Bangladesh won by 6 wickets</td>\n",
       "      <td>Mohammad Ashraful</td>\n",
       "    </tr>\n",
       "  </tbody>\n",
       "</table>\n",
       "</div>"
      ],
      "text/plain": [
       "   Match No        Date Group/Semi Final/Final                Match Between  \\\n",
       "0         1  2007-11-09                Group A  South Africa vs West Indies   \n",
       "1         2  2007-12-09                Group C         Kenya vs New Zealand   \n",
       "2         3  2007-12-09                Group D         Pakistan vs Scotland   \n",
       "3         4  2007-12-09                Group B        Australia vs Zimbabwe   \n",
       "4         5  2007-09-13                Group A    Bangladesh vs West Indies   \n",
       "\n",
       "                                 Venue Winning Team Score Losing Team Score  \\\n",
       "0  The Wanderers Stadium, Johannesburg  208/2(17.4 overs)   205/6(20 overs)   \n",
       "1                    Kingsmead, Durban    74/1(7.4 overs)    73(16.5 overs)   \n",
       "2                    Kingsmead, Durban    171/9(20 overs)   120(19.5 overs)   \n",
       "3                  Newlands, Cape Town  139/5(19.5 overs)   138/9(20 overs)   \n",
       "4  The Wanderers Stadium, Johannesburg    165/4(18 overs)   164/8(20 overs)   \n",
       "\n",
       "    Winner Team                         Result Player Of The Match  \n",
       "0  South Africa  South Africa won by 8 wickets         Chris Gayle  \n",
       "1   New Zealand   New Zealand won by 9 wickets      Mark Gillespie  \n",
       "2      Pakistan        Pakistan won by 51 runs       Shahid Afridi  \n",
       "3      Zimbabwe      Zimbabwe won by 5 wickets      Brendan Taylor  \n",
       "4    Bangladesh    Bangladesh won by 6 wickets   Mohammad Ashraful  "
      ]
     },
     "execution_count": 11,
     "metadata": {},
     "output_type": "execute_result"
    }
   ],
   "source": [
    "df1.head()"
   ]
  },
  {
   "cell_type": "code",
   "execution_count": 12,
   "metadata": {
    "execution": {
     "iopub.execute_input": "2022-10-21T05:59:47.013223Z",
     "iopub.status.busy": "2022-10-21T05:59:47.012840Z",
     "iopub.status.idle": "2022-10-21T05:59:47.021678Z",
     "shell.execute_reply": "2022-10-21T05:59:47.020600Z",
     "shell.execute_reply.started": "2022-10-21T05:59:47.013192Z"
    }
   },
   "outputs": [],
   "source": [
    "df1[\"Losing Team Score\"]= df1[\"Losing Team Score\"].astype(str)\n",
    "df1[\"Losing Team Score\"] = df1[\"Losing Team Score\"].apply(lambda x:x.split(\"/\")[0])\n",
    "df1[\"Losing Team Score\"] = df1[\"Losing Team Score\"].apply(lambda x:x.split(\"(\")[0])\n"
   ]
  },
  {
   "cell_type": "code",
   "execution_count": 13,
   "metadata": {
    "execution": {
     "iopub.execute_input": "2022-10-21T05:59:47.426838Z",
     "iopub.status.busy": "2022-10-21T05:59:47.426423Z",
     "iopub.status.idle": "2022-10-21T05:59:47.443434Z",
     "shell.execute_reply": "2022-10-21T05:59:47.442103Z",
     "shell.execute_reply.started": "2022-10-21T05:59:47.426801Z"
    }
   },
   "outputs": [
    {
     "data": {
      "text/html": [
       "<div>\n",
       "<style scoped>\n",
       "    .dataframe tbody tr th:only-of-type {\n",
       "        vertical-align: middle;\n",
       "    }\n",
       "\n",
       "    .dataframe tbody tr th {\n",
       "        vertical-align: top;\n",
       "    }\n",
       "\n",
       "    .dataframe thead th {\n",
       "        text-align: right;\n",
       "    }\n",
       "</style>\n",
       "<table border=\"1\" class=\"dataframe\">\n",
       "  <thead>\n",
       "    <tr style=\"text-align: right;\">\n",
       "      <th></th>\n",
       "      <th>Match No</th>\n",
       "      <th>Date</th>\n",
       "      <th>Group/Semi Final/Final</th>\n",
       "      <th>Match Between</th>\n",
       "      <th>Venue</th>\n",
       "      <th>Winning Team Score</th>\n",
       "      <th>Losing Team Score</th>\n",
       "      <th>Winner Team</th>\n",
       "      <th>Result</th>\n",
       "      <th>Player Of The Match</th>\n",
       "    </tr>\n",
       "  </thead>\n",
       "  <tbody>\n",
       "    <tr>\n",
       "      <th>0</th>\n",
       "      <td>1</td>\n",
       "      <td>2007-11-09</td>\n",
       "      <td>Group A</td>\n",
       "      <td>South Africa vs West Indies</td>\n",
       "      <td>The Wanderers Stadium, Johannesburg</td>\n",
       "      <td>208/2(17.4 overs)</td>\n",
       "      <td>205</td>\n",
       "      <td>South Africa</td>\n",
       "      <td>South Africa won by 8 wickets</td>\n",
       "      <td>Chris Gayle</td>\n",
       "    </tr>\n",
       "    <tr>\n",
       "      <th>1</th>\n",
       "      <td>2</td>\n",
       "      <td>2007-12-09</td>\n",
       "      <td>Group C</td>\n",
       "      <td>Kenya vs New Zealand</td>\n",
       "      <td>Kingsmead, Durban</td>\n",
       "      <td>74/1(7.4 overs)</td>\n",
       "      <td>73</td>\n",
       "      <td>New Zealand</td>\n",
       "      <td>New Zealand won by 9 wickets</td>\n",
       "      <td>Mark Gillespie</td>\n",
       "    </tr>\n",
       "    <tr>\n",
       "      <th>2</th>\n",
       "      <td>3</td>\n",
       "      <td>2007-12-09</td>\n",
       "      <td>Group D</td>\n",
       "      <td>Pakistan vs Scotland</td>\n",
       "      <td>Kingsmead, Durban</td>\n",
       "      <td>171/9(20 overs)</td>\n",
       "      <td>120</td>\n",
       "      <td>Pakistan</td>\n",
       "      <td>Pakistan won by 51 runs</td>\n",
       "      <td>Shahid Afridi</td>\n",
       "    </tr>\n",
       "    <tr>\n",
       "      <th>3</th>\n",
       "      <td>4</td>\n",
       "      <td>2007-12-09</td>\n",
       "      <td>Group B</td>\n",
       "      <td>Australia vs Zimbabwe</td>\n",
       "      <td>Newlands, Cape Town</td>\n",
       "      <td>139/5(19.5 overs)</td>\n",
       "      <td>138</td>\n",
       "      <td>Zimbabwe</td>\n",
       "      <td>Zimbabwe won by 5 wickets</td>\n",
       "      <td>Brendan Taylor</td>\n",
       "    </tr>\n",
       "    <tr>\n",
       "      <th>4</th>\n",
       "      <td>5</td>\n",
       "      <td>2007-09-13</td>\n",
       "      <td>Group A</td>\n",
       "      <td>Bangladesh vs West Indies</td>\n",
       "      <td>The Wanderers Stadium, Johannesburg</td>\n",
       "      <td>165/4(18 overs)</td>\n",
       "      <td>164</td>\n",
       "      <td>Bangladesh</td>\n",
       "      <td>Bangladesh won by 6 wickets</td>\n",
       "      <td>Mohammad Ashraful</td>\n",
       "    </tr>\n",
       "  </tbody>\n",
       "</table>\n",
       "</div>"
      ],
      "text/plain": [
       "   Match No        Date Group/Semi Final/Final                Match Between  \\\n",
       "0         1  2007-11-09                Group A  South Africa vs West Indies   \n",
       "1         2  2007-12-09                Group C         Kenya vs New Zealand   \n",
       "2         3  2007-12-09                Group D         Pakistan vs Scotland   \n",
       "3         4  2007-12-09                Group B        Australia vs Zimbabwe   \n",
       "4         5  2007-09-13                Group A    Bangladesh vs West Indies   \n",
       "\n",
       "                                 Venue Winning Team Score Losing Team Score  \\\n",
       "0  The Wanderers Stadium, Johannesburg  208/2(17.4 overs)               205   \n",
       "1                    Kingsmead, Durban    74/1(7.4 overs)                73   \n",
       "2                    Kingsmead, Durban    171/9(20 overs)               120   \n",
       "3                  Newlands, Cape Town  139/5(19.5 overs)               138   \n",
       "4  The Wanderers Stadium, Johannesburg    165/4(18 overs)               164   \n",
       "\n",
       "    Winner Team                         Result Player Of The Match  \n",
       "0  South Africa  South Africa won by 8 wickets         Chris Gayle  \n",
       "1   New Zealand   New Zealand won by 9 wickets      Mark Gillespie  \n",
       "2      Pakistan        Pakistan won by 51 runs       Shahid Afridi  \n",
       "3      Zimbabwe      Zimbabwe won by 5 wickets      Brendan Taylor  \n",
       "4    Bangladesh    Bangladesh won by 6 wickets   Mohammad Ashraful  "
      ]
     },
     "execution_count": 13,
     "metadata": {},
     "output_type": "execute_result"
    }
   ],
   "source": [
    "df1.head()"
   ]
  },
  {
   "cell_type": "code",
   "execution_count": 14,
   "metadata": {
    "execution": {
     "iopub.execute_input": "2022-10-21T05:59:47.854740Z",
     "iopub.status.busy": "2022-10-21T05:59:47.853767Z",
     "iopub.status.idle": "2022-10-21T05:59:47.863214Z",
     "shell.execute_reply": "2022-10-21T05:59:47.861971Z",
     "shell.execute_reply.started": "2022-10-21T05:59:47.854674Z"
    }
   },
   "outputs": [],
   "source": [
    "df1[\"Winning Team Score\"]= df1[\"Winning Team Score\"].astype(str)\n",
    "df1[\"Winning Team Score\"] = df1[\"Winning Team Score\"].apply(lambda x:x.split(\"/\")[0])\n",
    "df1[\"Winning Team Score\"] = df1[\"Winning Team Score\"].apply(lambda x:x.split(\"(\")[0])\n"
   ]
  },
  {
   "cell_type": "code",
   "execution_count": 15,
   "metadata": {
    "execution": {
     "iopub.execute_input": "2022-10-21T05:59:48.765509Z",
     "iopub.status.busy": "2022-10-21T05:59:48.765104Z",
     "iopub.status.idle": "2022-10-21T05:59:48.773214Z",
     "shell.execute_reply": "2022-10-21T05:59:48.772071Z",
     "shell.execute_reply.started": "2022-10-21T05:59:48.765476Z"
    }
   },
   "outputs": [],
   "source": [
    "df1 = df1.drop(df1[df1[\"Winning Team Score\"]==\"nan\"].index)\n"
   ]
  },
  {
   "cell_type": "code",
   "execution_count": 16,
   "metadata": {
    "execution": {
     "iopub.execute_input": "2022-10-21T05:59:49.488168Z",
     "iopub.status.busy": "2022-10-21T05:59:49.487777Z",
     "iopub.status.idle": "2022-10-21T05:59:49.495936Z",
     "shell.execute_reply": "2022-10-21T05:59:49.494706Z",
     "shell.execute_reply.started": "2022-10-21T05:59:49.488135Z"
    }
   },
   "outputs": [],
   "source": [
    "df1 = df1.drop(df1[df1[\"Losing Team Score\"]==\"nan\"].index)"
   ]
  },
  {
   "cell_type": "code",
   "execution_count": 17,
   "metadata": {
    "execution": {
     "iopub.execute_input": "2022-10-21T05:59:50.066639Z",
     "iopub.status.busy": "2022-10-21T05:59:50.066243Z",
     "iopub.status.idle": "2022-10-21T05:59:50.073240Z",
     "shell.execute_reply": "2022-10-21T05:59:50.071793Z",
     "shell.execute_reply.started": "2022-10-21T05:59:50.066606Z"
    }
   },
   "outputs": [],
   "source": [
    "df1[\"Losing Team Score\"] = df1[\"Losing Team Score\"].astype(int)"
   ]
  },
  {
   "cell_type": "code",
   "execution_count": 18,
   "metadata": {
    "execution": {
     "iopub.execute_input": "2022-10-21T05:59:50.725369Z",
     "iopub.status.busy": "2022-10-21T05:59:50.724957Z",
     "iopub.status.idle": "2022-10-21T05:59:50.732028Z",
     "shell.execute_reply": "2022-10-21T05:59:50.730748Z",
     "shell.execute_reply.started": "2022-10-21T05:59:50.725332Z"
    }
   },
   "outputs": [],
   "source": [
    "df1[\"Winning Team Score\"] = df1[\"Winning Team Score\"].astype(int)"
   ]
  },
  {
   "cell_type": "code",
   "execution_count": 19,
   "metadata": {
    "execution": {
     "iopub.execute_input": "2022-10-21T05:59:51.277670Z",
     "iopub.status.busy": "2022-10-21T05:59:51.277270Z",
     "iopub.status.idle": "2022-10-21T05:59:51.289600Z",
     "shell.execute_reply": "2022-10-21T05:59:51.288461Z",
     "shell.execute_reply.started": "2022-10-21T05:59:51.277634Z"
    }
   },
   "outputs": [],
   "source": [
    "df1[\"Result\"] = df1[\"Result\"].apply(lambda x : x.split(\"by \")[1:2]).str.get(0)\n",
    "\n",
    "df1[\"Result\"] = df1[\"Result\"].astype(str)\n",
    "\n",
    "df1[\"Result\"] = df1[\"Result\"].apply(lambda x : x.split(\"(\")[0])"
   ]
  },
  {
   "cell_type": "code",
   "execution_count": 20,
   "metadata": {
    "execution": {
     "iopub.execute_input": "2022-10-21T06:00:17.926881Z",
     "iopub.status.busy": "2022-10-21T06:00:17.926480Z",
     "iopub.status.idle": "2022-10-21T06:00:17.934380Z",
     "shell.execute_reply": "2022-10-21T06:00:17.933168Z",
     "shell.execute_reply.started": "2022-10-21T06:00:17.926848Z"
    }
   },
   "outputs": [],
   "source": [
    "df1 = df1.drop(df1[df1[\"Result\"] == \"nan\"].index)"
   ]
  },
  {
   "cell_type": "code",
   "execution_count": 21,
   "metadata": {
    "execution": {
     "iopub.execute_input": "2022-10-21T06:00:18.829885Z",
     "iopub.status.busy": "2022-10-21T06:00:18.829426Z",
     "iopub.status.idle": "2022-10-21T06:00:18.840260Z",
     "shell.execute_reply": "2022-10-21T06:00:18.838975Z",
     "shell.execute_reply.started": "2022-10-21T06:00:18.829847Z"
    }
   },
   "outputs": [],
   "source": [
    "df1[\"Runs&wicket\"]= df1[\"Result\"].apply(lambda x : x.split(\" \")[1:2])\n",
    "df1[\"Runs&wicket\"] = df1[\"Runs&wicket\"].str.get(0)\n",
    "df1[\"Runs&wicket\"] = df1[\"Runs&wicket\"].apply(lambda x : 1 if x == \"wickets\" else 0 )"
   ]
  },
  {
   "cell_type": "code",
   "execution_count": 22,
   "metadata": {
    "execution": {
     "iopub.execute_input": "2022-10-21T06:00:25.835140Z",
     "iopub.status.busy": "2022-10-21T06:00:25.834503Z",
     "iopub.status.idle": "2022-10-21T06:00:25.843968Z",
     "shell.execute_reply": "2022-10-21T06:00:25.843075Z",
     "shell.execute_reply.started": "2022-10-21T06:00:25.835077Z"
    }
   },
   "outputs": [],
   "source": [
    "df1.Result = df1[\"Result\"].apply(lambda x : x.split(\" \")[0])"
   ]
  },
  {
   "cell_type": "code",
   "execution_count": 23,
   "metadata": {
    "execution": {
     "iopub.execute_input": "2022-10-21T06:00:27.892962Z",
     "iopub.status.busy": "2022-10-21T06:00:27.892290Z",
     "iopub.status.idle": "2022-10-21T06:00:27.899536Z",
     "shell.execute_reply": "2022-10-21T06:00:27.898662Z",
     "shell.execute_reply.started": "2022-10-21T06:00:27.892925Z"
    }
   },
   "outputs": [],
   "source": [
    "df1[\"Date\"] = pd.to_datetime(df1[\"Date\"])"
   ]
  },
  {
   "cell_type": "code",
   "execution_count": 24,
   "metadata": {
    "execution": {
     "iopub.execute_input": "2022-10-21T06:01:52.779284Z",
     "iopub.status.busy": "2022-10-21T06:01:52.778878Z",
     "iopub.status.idle": "2022-10-21T06:01:52.789051Z",
     "shell.execute_reply": "2022-10-21T06:01:52.787718Z",
     "shell.execute_reply.started": "2022-10-21T06:01:52.779250Z"
    }
   },
   "outputs": [],
   "source": [
    "df1[\"day\"] =  df1[\"Date\"].dt.day\n",
    "df1[\"month\"] = df1[\"Date\"].dt.month\n",
    "df1[\"year\"] = df1[\"Date\"].dt.year"
   ]
  },
  {
   "cell_type": "code",
   "execution_count": 25,
   "metadata": {
    "execution": {
     "iopub.execute_input": "2022-10-21T06:02:21.803343Z",
     "iopub.status.busy": "2022-10-21T06:02:21.802814Z",
     "iopub.status.idle": "2022-10-21T06:02:21.810911Z",
     "shell.execute_reply": "2022-10-21T06:02:21.809657Z",
     "shell.execute_reply.started": "2022-10-21T06:02:21.803291Z"
    }
   },
   "outputs": [],
   "source": [
    "df1 = df1.drop(\"Date\" , axis = 1)"
   ]
  },
  {
   "cell_type": "code",
   "execution_count": 26,
   "metadata": {
    "execution": {
     "iopub.execute_input": "2022-10-21T06:02:27.129050Z",
     "iopub.status.busy": "2022-10-21T06:02:27.128636Z",
     "iopub.status.idle": "2022-10-21T06:02:27.146280Z",
     "shell.execute_reply": "2022-10-21T06:02:27.145089Z",
     "shell.execute_reply.started": "2022-10-21T06:02:27.129014Z"
    }
   },
   "outputs": [
    {
     "data": {
      "text/html": [
       "<div>\n",
       "<style scoped>\n",
       "    .dataframe tbody tr th:only-of-type {\n",
       "        vertical-align: middle;\n",
       "    }\n",
       "\n",
       "    .dataframe tbody tr th {\n",
       "        vertical-align: top;\n",
       "    }\n",
       "\n",
       "    .dataframe thead th {\n",
       "        text-align: right;\n",
       "    }\n",
       "</style>\n",
       "<table border=\"1\" class=\"dataframe\">\n",
       "  <thead>\n",
       "    <tr style=\"text-align: right;\">\n",
       "      <th></th>\n",
       "      <th>Match No</th>\n",
       "      <th>Group/Semi Final/Final</th>\n",
       "      <th>Match Between</th>\n",
       "      <th>Venue</th>\n",
       "      <th>Winning Team Score</th>\n",
       "      <th>Losing Team Score</th>\n",
       "      <th>Winner Team</th>\n",
       "      <th>Result</th>\n",
       "      <th>Player Of The Match</th>\n",
       "      <th>Runs&amp;wicket</th>\n",
       "      <th>day</th>\n",
       "      <th>month</th>\n",
       "      <th>year</th>\n",
       "    </tr>\n",
       "  </thead>\n",
       "  <tbody>\n",
       "    <tr>\n",
       "      <th>0</th>\n",
       "      <td>1</td>\n",
       "      <td>Group A</td>\n",
       "      <td>South Africa vs West Indies</td>\n",
       "      <td>The Wanderers Stadium, Johannesburg</td>\n",
       "      <td>208</td>\n",
       "      <td>205</td>\n",
       "      <td>South Africa</td>\n",
       "      <td>8</td>\n",
       "      <td>Chris Gayle</td>\n",
       "      <td>1</td>\n",
       "      <td>9</td>\n",
       "      <td>11</td>\n",
       "      <td>2007</td>\n",
       "    </tr>\n",
       "    <tr>\n",
       "      <th>1</th>\n",
       "      <td>2</td>\n",
       "      <td>Group C</td>\n",
       "      <td>Kenya vs New Zealand</td>\n",
       "      <td>Kingsmead, Durban</td>\n",
       "      <td>74</td>\n",
       "      <td>73</td>\n",
       "      <td>New Zealand</td>\n",
       "      <td>9</td>\n",
       "      <td>Mark Gillespie</td>\n",
       "      <td>1</td>\n",
       "      <td>9</td>\n",
       "      <td>12</td>\n",
       "      <td>2007</td>\n",
       "    </tr>\n",
       "    <tr>\n",
       "      <th>2</th>\n",
       "      <td>3</td>\n",
       "      <td>Group D</td>\n",
       "      <td>Pakistan vs Scotland</td>\n",
       "      <td>Kingsmead, Durban</td>\n",
       "      <td>171</td>\n",
       "      <td>120</td>\n",
       "      <td>Pakistan</td>\n",
       "      <td>51</td>\n",
       "      <td>Shahid Afridi</td>\n",
       "      <td>0</td>\n",
       "      <td>9</td>\n",
       "      <td>12</td>\n",
       "      <td>2007</td>\n",
       "    </tr>\n",
       "    <tr>\n",
       "      <th>3</th>\n",
       "      <td>4</td>\n",
       "      <td>Group B</td>\n",
       "      <td>Australia vs Zimbabwe</td>\n",
       "      <td>Newlands, Cape Town</td>\n",
       "      <td>139</td>\n",
       "      <td>138</td>\n",
       "      <td>Zimbabwe</td>\n",
       "      <td>5</td>\n",
       "      <td>Brendan Taylor</td>\n",
       "      <td>1</td>\n",
       "      <td>9</td>\n",
       "      <td>12</td>\n",
       "      <td>2007</td>\n",
       "    </tr>\n",
       "    <tr>\n",
       "      <th>4</th>\n",
       "      <td>5</td>\n",
       "      <td>Group A</td>\n",
       "      <td>Bangladesh vs West Indies</td>\n",
       "      <td>The Wanderers Stadium, Johannesburg</td>\n",
       "      <td>165</td>\n",
       "      <td>164</td>\n",
       "      <td>Bangladesh</td>\n",
       "      <td>6</td>\n",
       "      <td>Mohammad Ashraful</td>\n",
       "      <td>1</td>\n",
       "      <td>13</td>\n",
       "      <td>9</td>\n",
       "      <td>2007</td>\n",
       "    </tr>\n",
       "  </tbody>\n",
       "</table>\n",
       "</div>"
      ],
      "text/plain": [
       "   Match No Group/Semi Final/Final                Match Between  \\\n",
       "0         1                Group A  South Africa vs West Indies   \n",
       "1         2                Group C         Kenya vs New Zealand   \n",
       "2         3                Group D         Pakistan vs Scotland   \n",
       "3         4                Group B        Australia vs Zimbabwe   \n",
       "4         5                Group A    Bangladesh vs West Indies   \n",
       "\n",
       "                                 Venue  Winning Team Score  Losing Team Score  \\\n",
       "0  The Wanderers Stadium, Johannesburg                 208                205   \n",
       "1                    Kingsmead, Durban                  74                 73   \n",
       "2                    Kingsmead, Durban                 171                120   \n",
       "3                  Newlands, Cape Town                 139                138   \n",
       "4  The Wanderers Stadium, Johannesburg                 165                164   \n",
       "\n",
       "    Winner Team Result Player Of The Match  Runs&wicket  day  month  year  \n",
       "0  South Africa      8         Chris Gayle            1    9     11  2007  \n",
       "1   New Zealand      9      Mark Gillespie            1    9     12  2007  \n",
       "2      Pakistan     51       Shahid Afridi            0    9     12  2007  \n",
       "3      Zimbabwe      5      Brendan Taylor            1    9     12  2007  \n",
       "4    Bangladesh      6   Mohammad Ashraful            1   13      9  2007  "
      ]
     },
     "execution_count": 26,
     "metadata": {},
     "output_type": "execute_result"
    }
   ],
   "source": [
    "df1.head()"
   ]
  },
  {
   "cell_type": "markdown",
   "metadata": {},
   "source": [
    "### VISUALIZATION\n",
    "The data is visulize to get better insights"
   ]
  },
  {
   "cell_type": "code",
   "execution_count": 27,
   "metadata": {
    "execution": {
     "iopub.execute_input": "2022-10-21T05:49:26.437578Z",
     "iopub.status.busy": "2022-10-21T05:49:26.437176Z",
     "iopub.status.idle": "2022-10-21T05:49:26.700040Z",
     "shell.execute_reply": "2022-10-21T05:49:26.699022Z",
     "shell.execute_reply.started": "2022-10-21T05:49:26.437545Z"
    }
   },
   "outputs": [
    {
     "data": {
      "text/plain": [
       "Text(0, 0.5, 'no.of time man of the match')"
      ]
     },
     "execution_count": 27,
     "metadata": {},
     "output_type": "execute_result"
    },
    {
     "data": {
      "image/png": "[encoded data removed]",
      "text/plain": [
       "<Figure size 432x288 with 1 Axes>"
      ]
     },
     "metadata": {
      "needs_background": "light"
     },
     "output_type": "display_data"
    }
   ],
   "source": [
    "df1[\"Player Of The Match\"].value_counts().nlargest(10).plot.bar()\n",
    "plt.xlabel(\"players\")\n",
    "plt.ylabel(\"no.of time man of the match\")"
   ]
  },
  {
   "cell_type": "code",
   "execution_count": 28,
   "metadata": {
    "execution": {
     "iopub.execute_input": "2022-10-21T05:56:14.434643Z",
     "iopub.status.busy": "2022-10-21T05:56:14.434175Z",
     "iopub.status.idle": "2022-10-21T05:56:14.452908Z",
     "shell.execute_reply": "2022-10-21T05:56:14.451770Z",
     "shell.execute_reply.started": "2022-10-21T05:56:14.434603Z"
    }
   },
   "outputs": [
    {
     "data": {
      "text/html": [
       "<div>\n",
       "<style scoped>\n",
       "    .dataframe tbody tr th:only-of-type {\n",
       "        vertical-align: middle;\n",
       "    }\n",
       "\n",
       "    .dataframe tbody tr th {\n",
       "        vertical-align: top;\n",
       "    }\n",
       "\n",
       "    .dataframe thead th {\n",
       "        text-align: right;\n",
       "    }\n",
       "</style>\n",
       "<table border=\"1\" class=\"dataframe\">\n",
       "  <thead>\n",
       "    <tr style=\"text-align: right;\">\n",
       "      <th></th>\n",
       "      <th>Match No</th>\n",
       "      <th>Group/Semi Final/Final</th>\n",
       "      <th>Match Between</th>\n",
       "      <th>Venue</th>\n",
       "      <th>Winning Team Score</th>\n",
       "      <th>Losing Team Score</th>\n",
       "      <th>Winner Team</th>\n",
       "      <th>Result</th>\n",
       "      <th>Player Of The Match</th>\n",
       "      <th>Runs&amp;wicket</th>\n",
       "      <th>day</th>\n",
       "      <th>month</th>\n",
       "      <th>year</th>\n",
       "    </tr>\n",
       "  </thead>\n",
       "  <tbody>\n",
       "    <tr>\n",
       "      <th>0</th>\n",
       "      <td>1</td>\n",
       "      <td>Group A</td>\n",
       "      <td>South Africa vs West Indies</td>\n",
       "      <td>The Wanderers Stadium, Johannesburg</td>\n",
       "      <td>208</td>\n",
       "      <td>205</td>\n",
       "      <td>South Africa</td>\n",
       "      <td>8</td>\n",
       "      <td>Chris Gayle</td>\n",
       "      <td>1</td>\n",
       "      <td>9</td>\n",
       "      <td>11</td>\n",
       "      <td>2007</td>\n",
       "    </tr>\n",
       "    <tr>\n",
       "      <th>1</th>\n",
       "      <td>2</td>\n",
       "      <td>Group C</td>\n",
       "      <td>Kenya vs New Zealand</td>\n",
       "      <td>Kingsmead, Durban</td>\n",
       "      <td>74</td>\n",
       "      <td>73</td>\n",
       "      <td>New Zealand</td>\n",
       "      <td>9</td>\n",
       "      <td>Mark Gillespie</td>\n",
       "      <td>1</td>\n",
       "      <td>9</td>\n",
       "      <td>12</td>\n",
       "      <td>2007</td>\n",
       "    </tr>\n",
       "    <tr>\n",
       "      <th>2</th>\n",
       "      <td>3</td>\n",
       "      <td>Group D</td>\n",
       "      <td>Pakistan vs Scotland</td>\n",
       "      <td>Kingsmead, Durban</td>\n",
       "      <td>171</td>\n",
       "      <td>120</td>\n",
       "      <td>Pakistan</td>\n",
       "      <td>51</td>\n",
       "      <td>Shahid Afridi</td>\n",
       "      <td>0</td>\n",
       "      <td>9</td>\n",
       "      <td>12</td>\n",
       "      <td>2007</td>\n",
       "    </tr>\n",
       "    <tr>\n",
       "      <th>3</th>\n",
       "      <td>4</td>\n",
       "      <td>Group B</td>\n",
       "      <td>Australia vs Zimbabwe</td>\n",
       "      <td>Newlands, Cape Town</td>\n",
       "      <td>139</td>\n",
       "      <td>138</td>\n",
       "      <td>Zimbabwe</td>\n",
       "      <td>5</td>\n",
       "      <td>Brendan Taylor</td>\n",
       "      <td>1</td>\n",
       "      <td>9</td>\n",
       "      <td>12</td>\n",
       "      <td>2007</td>\n",
       "    </tr>\n",
       "    <tr>\n",
       "      <th>4</th>\n",
       "      <td>5</td>\n",
       "      <td>Group A</td>\n",
       "      <td>Bangladesh vs West Indies</td>\n",
       "      <td>The Wanderers Stadium, Johannesburg</td>\n",
       "      <td>165</td>\n",
       "      <td>164</td>\n",
       "      <td>Bangladesh</td>\n",
       "      <td>6</td>\n",
       "      <td>Mohammad Ashraful</td>\n",
       "      <td>1</td>\n",
       "      <td>13</td>\n",
       "      <td>9</td>\n",
       "      <td>2007</td>\n",
       "    </tr>\n",
       "  </tbody>\n",
       "</table>\n",
       "</div>"
      ],
      "text/plain": [
       "   Match No Group/Semi Final/Final                Match Between  \\\n",
       "0         1                Group A  South Africa vs West Indies   \n",
       "1         2                Group C         Kenya vs New Zealand   \n",
       "2         3                Group D         Pakistan vs Scotland   \n",
       "3         4                Group B        Australia vs Zimbabwe   \n",
       "4         5                Group A    Bangladesh vs West Indies   \n",
       "\n",
       "                                 Venue  Winning Team Score  Losing Team Score  \\\n",
       "0  The Wanderers Stadium, Johannesburg                 208                205   \n",
       "1                    Kingsmead, Durban                  74                 73   \n",
       "2                    Kingsmead, Durban                 171                120   \n",
       "3                  Newlands, Cape Town                 139                138   \n",
       "4  The Wanderers Stadium, Johannesburg                 165                164   \n",
       "\n",
       "    Winner Team Result Player Of The Match  Runs&wicket  day  month  year  \n",
       "0  South Africa      8         Chris Gayle            1    9     11  2007  \n",
       "1   New Zealand      9      Mark Gillespie            1    9     12  2007  \n",
       "2      Pakistan     51       Shahid Afridi            0    9     12  2007  \n",
       "3      Zimbabwe      5      Brendan Taylor            1    9     12  2007  \n",
       "4    Bangladesh      6   Mohammad Ashraful            1   13      9  2007  "
      ]
     },
     "execution_count": 28,
     "metadata": {},
     "output_type": "execute_result"
    }
   ],
   "source": [
    "df1.head()"
   ]
  },
  {
   "cell_type": "code",
   "execution_count": 29,
   "metadata": {
    "execution": {
     "iopub.execute_input": "2022-10-21T05:52:32.705122Z",
     "iopub.status.busy": "2022-10-21T05:52:32.704722Z",
     "iopub.status.idle": "2022-10-21T05:52:33.172034Z",
     "shell.execute_reply": "2022-10-21T05:52:33.170748Z",
     "shell.execute_reply.started": "2022-10-21T05:52:32.705090Z"
    }
   },
   "outputs": [
    {
     "data": {
      "text/plain": [
       "<AxesSubplot:ylabel='Winning Team Score'>"
      ]
     },
     "execution_count": 29,
     "metadata": {},
     "output_type": "execute_result"
    },
    {
     "data": {
      "image/png": "[encoded data removed]",
      "text/plain": [
       "<Figure size 432x288 with 1 Axes>"
      ]
     },
     "metadata": {
      "needs_background": "light"
     },
     "output_type": "display_data"
    }
   ],
   "source": [
    "df1.groupby(\"Winning Team Score\")[\"Winner Team\"].value_counts().nlargest(10).unstack().plot.barh(width = 3)\n",
    "\n",
    "\n"
   ]
  },
  {
   "cell_type": "code",
   "execution_count": 30,
   "metadata": {
    "execution": {
     "iopub.execute_input": "2022-10-21T05:44:51.469324Z",
     "iopub.status.busy": "2022-10-21T05:44:51.468932Z",
     "iopub.status.idle": "2022-10-21T05:44:51.847550Z",
     "shell.execute_reply": "2022-10-21T05:44:51.846754Z",
     "shell.execute_reply.started": "2022-10-21T05:44:51.469293Z"
    }
   },
   "outputs": [
    {
     "ename": "ValueError",
     "evalue": "could not convert string to float: 'South Africa'",
     "output_type": "error",
     "traceback": [
      "\u001b[1;31m---------------------------------------------------------------------------\u001b[0m",
      "\u001b[1;31mValueError\u001b[0m                                Traceback (most recent call last)",
      "\u001b[1;32m<ipython-input-30-2e7b37190a27>\u001b[0m in \u001b[0;36m<module>\u001b[1;34m\u001b[0m\n\u001b[0;32m      1\u001b[0m \u001b[0mplt\u001b[0m\u001b[1;33m.\u001b[0m\u001b[0mfigure\u001b[0m\u001b[1;33m(\u001b[0m\u001b[0mfigsize\u001b[0m\u001b[1;33m=\u001b[0m\u001b[1;33m(\u001b[0m\u001b[1;36m15\u001b[0m\u001b[1;33m,\u001b[0m\u001b[1;36m20\u001b[0m\u001b[1;33m)\u001b[0m\u001b[1;33m)\u001b[0m\u001b[1;33m\u001b[0m\u001b[1;33m\u001b[0m\u001b[0m\n\u001b[1;32m----> 2\u001b[1;33m \u001b[0msns\u001b[0m\u001b[1;33m.\u001b[0m\u001b[0mcountplot\u001b[0m\u001b[1;33m(\u001b[0m\u001b[0mdf1\u001b[0m\u001b[1;33m[\u001b[0m\u001b[1;34m\"Winner Team\"\u001b[0m\u001b[1;33m]\u001b[0m\u001b[1;33m)\u001b[0m\u001b[1;33m\u001b[0m\u001b[1;33m\u001b[0m\u001b[0m\n\u001b[0m\u001b[0;32m      3\u001b[0m \u001b[0mplt\u001b[0m\u001b[1;33m.\u001b[0m\u001b[0mxticks\u001b[0m\u001b[1;33m(\u001b[0m\u001b[0mrotation\u001b[0m\u001b[1;33m=\u001b[0m\u001b[1;36m45\u001b[0m\u001b[1;33m)\u001b[0m\u001b[1;33m\u001b[0m\u001b[1;33m\u001b[0m\u001b[0m\n",
      "\u001b[1;32m~\\anaconda3\\lib\\site-packages\\seaborn\\categorical.py\u001b[0m in \u001b[0;36mcountplot\u001b[1;34m(data, x, y, hue, order, hue_order, orient, color, palette, saturation, width, dodge, ax, **kwargs)\u001b[0m\n\u001b[0;32m   2937\u001b[0m         \u001b[1;32mraise\u001b[0m \u001b[0mValueError\u001b[0m\u001b[1;33m(\u001b[0m\u001b[1;34m\"Cannot pass values for both `x` and `y`\"\u001b[0m\u001b[1;33m)\u001b[0m\u001b[1;33m\u001b[0m\u001b[1;33m\u001b[0m\u001b[0m\n\u001b[0;32m   2938\u001b[0m \u001b[1;33m\u001b[0m\u001b[0m\n\u001b[1;32m-> 2939\u001b[1;33m     plotter = _CountPlotter(\n\u001b[0m\u001b[0;32m   2940\u001b[0m         \u001b[0mx\u001b[0m\u001b[1;33m,\u001b[0m \u001b[0my\u001b[0m\u001b[1;33m,\u001b[0m \u001b[0mhue\u001b[0m\u001b[1;33m,\u001b[0m \u001b[0mdata\u001b[0m\u001b[1;33m,\u001b[0m \u001b[0morder\u001b[0m\u001b[1;33m,\u001b[0m \u001b[0mhue_order\u001b[0m\u001b[1;33m,\u001b[0m\u001b[1;33m\u001b[0m\u001b[1;33m\u001b[0m\u001b[0m\n\u001b[0;32m   2941\u001b[0m         \u001b[0mestimator\u001b[0m\u001b[1;33m,\u001b[0m \u001b[0merrorbar\u001b[0m\u001b[1;33m,\u001b[0m \u001b[0mn_boot\u001b[0m\u001b[1;33m,\u001b[0m \u001b[0munits\u001b[0m\u001b[1;33m,\u001b[0m \u001b[0mseed\u001b[0m\u001b[1;33m,\u001b[0m\u001b[1;33m\u001b[0m\u001b[1;33m\u001b[0m\u001b[0m\n",
      "\u001b[1;32m~\\anaconda3\\lib\\site-packages\\seaborn\\categorical.py\u001b[0m in \u001b[0;36m__init__\u001b[1;34m(self, x, y, hue, data, order, hue_order, estimator, errorbar, n_boot, units, seed, orient, color, palette, saturation, width, errcolor, errwidth, capsize, dodge)\u001b[0m\n\u001b[0;32m   1528\u001b[0m                  errcolor, errwidth, capsize, dodge):\n\u001b[0;32m   1529\u001b[0m         \u001b[1;34m\"\"\"Initialize the plotter.\"\"\"\u001b[0m\u001b[1;33m\u001b[0m\u001b[1;33m\u001b[0m\u001b[0m\n\u001b[1;32m-> 1530\u001b[1;33m         self.establish_variables(x, y, hue, data, orient,\n\u001b[0m\u001b[0;32m   1531\u001b[0m                                  order, hue_order, units)\n\u001b[0;32m   1532\u001b[0m         \u001b[0mself\u001b[0m\u001b[1;33m.\u001b[0m\u001b[0mestablish_colors\u001b[0m\u001b[1;33m(\u001b[0m\u001b[0mcolor\u001b[0m\u001b[1;33m,\u001b[0m \u001b[0mpalette\u001b[0m\u001b[1;33m,\u001b[0m \u001b[0msaturation\u001b[0m\u001b[1;33m)\u001b[0m\u001b[1;33m\u001b[0m\u001b[1;33m\u001b[0m\u001b[0m\n",
      "\u001b[1;32m~\\anaconda3\\lib\\site-packages\\seaborn\\categorical.py\u001b[0m in \u001b[0;36mestablish_variables\u001b[1;34m(self, x, y, hue, data, orient, order, hue_order, units)\u001b[0m\n\u001b[0;32m    514\u001b[0m \u001b[1;33m\u001b[0m\u001b[0m\n\u001b[0;32m    515\u001b[0m                 \u001b[1;31m# Convert to a list of arrays, the common representation\u001b[0m\u001b[1;33m\u001b[0m\u001b[1;33m\u001b[0m\u001b[1;33m\u001b[0m\u001b[0m\n\u001b[1;32m--> 516\u001b[1;33m                 \u001b[0mplot_data\u001b[0m \u001b[1;33m=\u001b[0m \u001b[1;33m[\u001b[0m\u001b[0mnp\u001b[0m\u001b[1;33m.\u001b[0m\u001b[0masarray\u001b[0m\u001b[1;33m(\u001b[0m\u001b[0md\u001b[0m\u001b[1;33m,\u001b[0m \u001b[0mfloat\u001b[0m\u001b[1;33m)\u001b[0m \u001b[1;32mfor\u001b[0m \u001b[0md\u001b[0m \u001b[1;32min\u001b[0m \u001b[0mplot_data\u001b[0m\u001b[1;33m]\u001b[0m\u001b[1;33m\u001b[0m\u001b[1;33m\u001b[0m\u001b[0m\n\u001b[0m\u001b[0;32m    517\u001b[0m \u001b[1;33m\u001b[0m\u001b[0m\n\u001b[0;32m    518\u001b[0m                 \u001b[1;31m# The group names will just be numeric indices\u001b[0m\u001b[1;33m\u001b[0m\u001b[1;33m\u001b[0m\u001b[1;33m\u001b[0m\u001b[0m\n",
      "\u001b[1;32m~\\anaconda3\\lib\\site-packages\\seaborn\\categorical.py\u001b[0m in \u001b[0;36m<listcomp>\u001b[1;34m(.0)\u001b[0m\n\u001b[0;32m    514\u001b[0m \u001b[1;33m\u001b[0m\u001b[0m\n\u001b[0;32m    515\u001b[0m                 \u001b[1;31m# Convert to a list of arrays, the common representation\u001b[0m\u001b[1;33m\u001b[0m\u001b[1;33m\u001b[0m\u001b[1;33m\u001b[0m\u001b[0m\n\u001b[1;32m--> 516\u001b[1;33m                 \u001b[0mplot_data\u001b[0m \u001b[1;33m=\u001b[0m \u001b[1;33m[\u001b[0m\u001b[0mnp\u001b[0m\u001b[1;33m.\u001b[0m\u001b[0masarray\u001b[0m\u001b[1;33m(\u001b[0m\u001b[0md\u001b[0m\u001b[1;33m,\u001b[0m \u001b[0mfloat\u001b[0m\u001b[1;33m)\u001b[0m \u001b[1;32mfor\u001b[0m \u001b[0md\u001b[0m \u001b[1;32min\u001b[0m \u001b[0mplot_data\u001b[0m\u001b[1;33m]\u001b[0m\u001b[1;33m\u001b[0m\u001b[1;33m\u001b[0m\u001b[0m\n\u001b[0m\u001b[0;32m    517\u001b[0m \u001b[1;33m\u001b[0m\u001b[0m\n\u001b[0;32m    518\u001b[0m                 \u001b[1;31m# The group names will just be numeric indices\u001b[0m\u001b[1;33m\u001b[0m\u001b[1;33m\u001b[0m\u001b[1;33m\u001b[0m\u001b[0m\n",
      "\u001b[1;31mValueError\u001b[0m: could not convert string to float: 'South Africa'"
     ]
    },
    {
     "data": {
      "text/plain": [
       "<Figure size 1080x1440 with 0 Axes>"
      ]
     },
     "metadata": {},
     "output_type": "display_data"
    }
   ],
   "source": [
    "plt.figure(figsize=(15,20))\n",
    "sns.countplot(df1[\"Winner Team\"])\n",
    "plt.xticks(rotation=45)"
   ]
  },
  {
   "cell_type": "code",
   "execution_count": 31,
   "metadata": {
    "execution": {
     "iopub.execute_input": "2022-10-20T13:52:37.112538Z",
     "iopub.status.busy": "2022-10-20T13:52:37.112083Z",
     "iopub.status.idle": "2022-10-20T13:52:37.393651Z",
     "shell.execute_reply": "2022-10-20T13:52:37.392442Z",
     "shell.execute_reply.started": "2022-10-20T13:52:37.112503Z"
    }
   },
   "outputs": [
    {
     "name": "stderr",
     "output_type": "stream",
     "text": [
      "<ipython-input-31-87d83e2d3ccd>:1: UserWarning: \n",
      "\n",
      "`distplot` is a deprecated function and will be removed in seaborn v0.14.0.\n",
      "\n",
      "Please adapt your code to use either `displot` (a figure-level function with\n",
      "similar flexibility) or `histplot` (an axes-level function for histograms).\n",
      "\n",
      "For a guide to updating your code to use the new functions, please see\n",
      "https://gist.github.com/mwaskom/de44147ed2974457ad6372750bbe5751\n",
      "\n",
      "  sns.distplot(df1['Winning Team Score'] ,kde= True)\n"
     ]
    },
    {
     "data": {
      "text/plain": [
       "<AxesSubplot:xlabel='Winning Team Score', ylabel='Density'>"
      ]
     },
     "execution_count": 31,
     "metadata": {},
     "output_type": "execute_result"
    },
    {
     "data": {
      "image/png": "[encoded data removed]",
      "text/plain": [
       "<Figure size 432x288 with 1 Axes>"
      ]
     },
     "metadata": {
      "needs_background": "light"
     },
     "output_type": "display_data"
    }
   ],
   "source": [
    "sns.distplot(df1['Winning Team Score'] ,kde= True)"
   ]
  },
  {
   "cell_type": "code",
   "execution_count": 32,
   "metadata": {
    "execution": {
     "iopub.execute_input": "2022-10-20T12:15:45.293507Z",
     "iopub.status.busy": "2022-10-20T12:15:45.293085Z",
     "iopub.status.idle": "2022-10-20T12:15:45.551229Z",
     "shell.execute_reply": "2022-10-20T12:15:45.550351Z",
     "shell.execute_reply.started": "2022-10-20T12:15:45.293468Z"
    }
   },
   "outputs": [
    {
     "name": "stderr",
     "output_type": "stream",
     "text": [
      "<ipython-input-32-ef1de12b3c95>:1: UserWarning: \n",
      "\n",
      "`distplot` is a deprecated function and will be removed in seaborn v0.14.0.\n",
      "\n",
      "Please adapt your code to use either `displot` (a figure-level function with\n",
      "similar flexibility) or `histplot` (an axes-level function for histograms).\n",
      "\n",
      "For a guide to updating your code to use the new functions, please see\n",
      "https://gist.github.com/mwaskom/de44147ed2974457ad6372750bbe5751\n",
      "\n",
      "  sns.distplot(df1[\"Losing Team Score\"],kde= True)\n"
     ]
    },
    {
     "data": {
      "text/plain": [
       "<AxesSubplot:xlabel='Losing Team Score', ylabel='Density'>"
      ]
     },
     "execution_count": 32,
     "metadata": {},
     "output_type": "execute_result"
    },
    {
     "data": {
      "image/png": "[encoded data removed]",
      "text/plain": [
       "<Figure size 432x288 with 1 Axes>"
      ]
     },
     "metadata": {
      "needs_background": "light"
     },
     "output_type": "display_data"
    }
   ],
   "source": [
    "sns.distplot(df1[\"Losing Team Score\"],kde= True)"
   ]
  },
  {
   "cell_type": "code",
   "execution_count": 43,
   "metadata": {
    "execution": {
     "iopub.execute_input": "2022-10-21T06:02:45.586989Z",
     "iopub.status.busy": "2022-10-21T06:02:45.586562Z",
     "iopub.status.idle": "2022-10-21T06:02:46.153456Z",
     "shell.execute_reply": "2022-10-21T06:02:46.152274Z",
     "shell.execute_reply.started": "2022-10-21T06:02:45.586952Z"
    }
   },
   "outputs": [
    {
     "ename": "ValueError",
     "evalue": "If using all scalar values, you must pass an index",
     "output_type": "error",
     "traceback": [
      "\u001b[1;31m---------------------------------------------------------------------------\u001b[0m",
      "\u001b[1;31mValueError\u001b[0m                                Traceback (most recent call last)",
      "\u001b[1;32m<ipython-input-43-f9f79e228459>\u001b[0m in \u001b[0;36m<module>\u001b[1;34m\u001b[0m\n\u001b[0;32m      1\u001b[0m \u001b[0mplt\u001b[0m\u001b[1;33m.\u001b[0m\u001b[0mfigure\u001b[0m\u001b[1;33m(\u001b[0m\u001b[0mfigsize\u001b[0m\u001b[1;33m=\u001b[0m\u001b[1;33m(\u001b[0m\u001b[1;36m15\u001b[0m\u001b[1;33m,\u001b[0m\u001b[1;36m20\u001b[0m\u001b[1;33m)\u001b[0m\u001b[1;33m)\u001b[0m\u001b[1;33m\u001b[0m\u001b[1;33m\u001b[0m\u001b[0m\n\u001b[1;32m----> 2\u001b[1;33m \u001b[0msns\u001b[0m\u001b[1;33m.\u001b[0m\u001b[0mcountplot\u001b[0m\u001b[1;33m(\u001b[0m\u001b[0mdf1\u001b[0m\u001b[1;33m.\u001b[0m\u001b[0mVenue\u001b[0m\u001b[1;33m)\u001b[0m\u001b[1;33m\u001b[0m\u001b[1;33m\u001b[0m\u001b[0m\n\u001b[0m\u001b[0;32m      3\u001b[0m \u001b[0mplt\u001b[0m\u001b[1;33m.\u001b[0m\u001b[0mxticks\u001b[0m\u001b[1;33m(\u001b[0m\u001b[0mrotation\u001b[0m \u001b[1;33m=\u001b[0m \u001b[1;36m90\u001b[0m\u001b[1;33m)\u001b[0m\u001b[1;33m\u001b[0m\u001b[1;33m\u001b[0m\u001b[0m\n",
      "\u001b[1;32m~\\anaconda3\\lib\\site-packages\\seaborn\\categorical.py\u001b[0m in \u001b[0;36mcountplot\u001b[1;34m(data, x, y, hue, order, hue_order, orient, color, palette, saturation, width, dodge, ax, **kwargs)\u001b[0m\n\u001b[0;32m   2937\u001b[0m         \u001b[1;32mraise\u001b[0m \u001b[0mValueError\u001b[0m\u001b[1;33m(\u001b[0m\u001b[1;34m\"Cannot pass values for both `x` and `y`\"\u001b[0m\u001b[1;33m)\u001b[0m\u001b[1;33m\u001b[0m\u001b[1;33m\u001b[0m\u001b[0m\n\u001b[0;32m   2938\u001b[0m \u001b[1;33m\u001b[0m\u001b[0m\n\u001b[1;32m-> 2939\u001b[1;33m     plotter = _CountPlotter(\n\u001b[0m\u001b[0;32m   2940\u001b[0m         \u001b[0mx\u001b[0m\u001b[1;33m,\u001b[0m \u001b[0my\u001b[0m\u001b[1;33m,\u001b[0m \u001b[0mhue\u001b[0m\u001b[1;33m,\u001b[0m \u001b[0mdata\u001b[0m\u001b[1;33m,\u001b[0m \u001b[0morder\u001b[0m\u001b[1;33m,\u001b[0m \u001b[0mhue_order\u001b[0m\u001b[1;33m,\u001b[0m\u001b[1;33m\u001b[0m\u001b[1;33m\u001b[0m\u001b[0m\n\u001b[0;32m   2941\u001b[0m         \u001b[0mestimator\u001b[0m\u001b[1;33m,\u001b[0m \u001b[0merrorbar\u001b[0m\u001b[1;33m,\u001b[0m \u001b[0mn_boot\u001b[0m\u001b[1;33m,\u001b[0m \u001b[0munits\u001b[0m\u001b[1;33m,\u001b[0m \u001b[0mseed\u001b[0m\u001b[1;33m,\u001b[0m\u001b[1;33m\u001b[0m\u001b[1;33m\u001b[0m\u001b[0m\n",
      "\u001b[1;32m~\\anaconda3\\lib\\site-packages\\seaborn\\categorical.py\u001b[0m in \u001b[0;36m__init__\u001b[1;34m(self, x, y, hue, data, order, hue_order, estimator, errorbar, n_boot, units, seed, orient, color, palette, saturation, width, errcolor, errwidth, capsize, dodge)\u001b[0m\n\u001b[0;32m   1531\u001b[0m                                  order, hue_order, units)\n\u001b[0;32m   1532\u001b[0m         \u001b[0mself\u001b[0m\u001b[1;33m.\u001b[0m\u001b[0mestablish_colors\u001b[0m\u001b[1;33m(\u001b[0m\u001b[0mcolor\u001b[0m\u001b[1;33m,\u001b[0m \u001b[0mpalette\u001b[0m\u001b[1;33m,\u001b[0m \u001b[0msaturation\u001b[0m\u001b[1;33m)\u001b[0m\u001b[1;33m\u001b[0m\u001b[1;33m\u001b[0m\u001b[0m\n\u001b[1;32m-> 1533\u001b[1;33m         \u001b[0mself\u001b[0m\u001b[1;33m.\u001b[0m\u001b[0mestimate_statistic\u001b[0m\u001b[1;33m(\u001b[0m\u001b[0mestimator\u001b[0m\u001b[1;33m,\u001b[0m \u001b[0merrorbar\u001b[0m\u001b[1;33m,\u001b[0m \u001b[0mn_boot\u001b[0m\u001b[1;33m,\u001b[0m \u001b[0mseed\u001b[0m\u001b[1;33m)\u001b[0m\u001b[1;33m\u001b[0m\u001b[1;33m\u001b[0m\u001b[0m\n\u001b[0m\u001b[0;32m   1534\u001b[0m \u001b[1;33m\u001b[0m\u001b[0m\n\u001b[0;32m   1535\u001b[0m         \u001b[0mself\u001b[0m\u001b[1;33m.\u001b[0m\u001b[0mdodge\u001b[0m \u001b[1;33m=\u001b[0m \u001b[0mdodge\u001b[0m\u001b[1;33m\u001b[0m\u001b[1;33m\u001b[0m\u001b[0m\n",
      "\u001b[1;32m~\\anaconda3\\lib\\site-packages\\seaborn\\categorical.py\u001b[0m in \u001b[0;36mestimate_statistic\u001b[1;34m(self, estimator, errorbar, n_boot, seed)\u001b[0m\n\u001b[0;32m   1455\u001b[0m             \u001b[1;32mif\u001b[0m \u001b[0mself\u001b[0m\u001b[1;33m.\u001b[0m\u001b[0mplot_hues\u001b[0m \u001b[1;32mis\u001b[0m \u001b[1;32mNone\u001b[0m\u001b[1;33m:\u001b[0m\u001b[1;33m\u001b[0m\u001b[1;33m\u001b[0m\u001b[0m\n\u001b[0;32m   1456\u001b[0m \u001b[1;33m\u001b[0m\u001b[0m\n\u001b[1;32m-> 1457\u001b[1;33m                 \u001b[0mdf\u001b[0m \u001b[1;33m=\u001b[0m \u001b[0mpd\u001b[0m\u001b[1;33m.\u001b[0m\u001b[0mDataFrame\u001b[0m\u001b[1;33m(\u001b[0m\u001b[1;33m{\u001b[0m\u001b[0mvar\u001b[0m\u001b[1;33m:\u001b[0m \u001b[0mgroup_data\u001b[0m\u001b[1;33m}\u001b[0m\u001b[1;33m)\u001b[0m\u001b[1;33m\u001b[0m\u001b[1;33m\u001b[0m\u001b[0m\n\u001b[0m\u001b[0;32m   1458\u001b[0m                 \u001b[1;32mif\u001b[0m \u001b[0mself\u001b[0m\u001b[1;33m.\u001b[0m\u001b[0mplot_units\u001b[0m \u001b[1;32mis\u001b[0m \u001b[1;32mnot\u001b[0m \u001b[1;32mNone\u001b[0m\u001b[1;33m:\u001b[0m\u001b[1;33m\u001b[0m\u001b[1;33m\u001b[0m\u001b[0m\n\u001b[0;32m   1459\u001b[0m                     \u001b[0mdf\u001b[0m\u001b[1;33m[\u001b[0m\u001b[1;34m\"units\"\u001b[0m\u001b[1;33m]\u001b[0m \u001b[1;33m=\u001b[0m \u001b[0mself\u001b[0m\u001b[1;33m.\u001b[0m\u001b[0mplot_units\u001b[0m\u001b[1;33m[\u001b[0m\u001b[0mi\u001b[0m\u001b[1;33m]\u001b[0m\u001b[1;33m\u001b[0m\u001b[1;33m\u001b[0m\u001b[0m\n",
      "\u001b[1;32m~\\anaconda3\\lib\\site-packages\\pandas\\core\\frame.py\u001b[0m in \u001b[0;36m__init__\u001b[1;34m(self, data, index, columns, dtype, copy)\u001b[0m\n\u001b[0;32m    527\u001b[0m \u001b[1;33m\u001b[0m\u001b[0m\n\u001b[0;32m    528\u001b[0m         \u001b[1;32melif\u001b[0m \u001b[0misinstance\u001b[0m\u001b[1;33m(\u001b[0m\u001b[0mdata\u001b[0m\u001b[1;33m,\u001b[0m \u001b[0mdict\u001b[0m\u001b[1;33m)\u001b[0m\u001b[1;33m:\u001b[0m\u001b[1;33m\u001b[0m\u001b[1;33m\u001b[0m\u001b[0m\n\u001b[1;32m--> 529\u001b[1;33m             \u001b[0mmgr\u001b[0m \u001b[1;33m=\u001b[0m \u001b[0minit_dict\u001b[0m\u001b[1;33m(\u001b[0m\u001b[0mdata\u001b[0m\u001b[1;33m,\u001b[0m \u001b[0mindex\u001b[0m\u001b[1;33m,\u001b[0m \u001b[0mcolumns\u001b[0m\u001b[1;33m,\u001b[0m \u001b[0mdtype\u001b[0m\u001b[1;33m=\u001b[0m\u001b[0mdtype\u001b[0m\u001b[1;33m)\u001b[0m\u001b[1;33m\u001b[0m\u001b[1;33m\u001b[0m\u001b[0m\n\u001b[0m\u001b[0;32m    530\u001b[0m         \u001b[1;32melif\u001b[0m \u001b[0misinstance\u001b[0m\u001b[1;33m(\u001b[0m\u001b[0mdata\u001b[0m\u001b[1;33m,\u001b[0m \u001b[0mma\u001b[0m\u001b[1;33m.\u001b[0m\u001b[0mMaskedArray\u001b[0m\u001b[1;33m)\u001b[0m\u001b[1;33m:\u001b[0m\u001b[1;33m\u001b[0m\u001b[1;33m\u001b[0m\u001b[0m\n\u001b[0;32m    531\u001b[0m             \u001b[1;32mimport\u001b[0m \u001b[0mnumpy\u001b[0m\u001b[1;33m.\u001b[0m\u001b[0mma\u001b[0m\u001b[1;33m.\u001b[0m\u001b[0mmrecords\u001b[0m \u001b[1;32mas\u001b[0m \u001b[0mmrecords\u001b[0m\u001b[1;33m\u001b[0m\u001b[1;33m\u001b[0m\u001b[0m\n",
      "\u001b[1;32m~\\anaconda3\\lib\\site-packages\\pandas\\core\\internals\\construction.py\u001b[0m in \u001b[0;36minit_dict\u001b[1;34m(data, index, columns, dtype)\u001b[0m\n\u001b[0;32m    285\u001b[0m             \u001b[0marr\u001b[0m \u001b[1;32mif\u001b[0m \u001b[1;32mnot\u001b[0m \u001b[0mis_datetime64tz_dtype\u001b[0m\u001b[1;33m(\u001b[0m\u001b[0marr\u001b[0m\u001b[1;33m)\u001b[0m \u001b[1;32melse\u001b[0m \u001b[0marr\u001b[0m\u001b[1;33m.\u001b[0m\u001b[0mcopy\u001b[0m\u001b[1;33m(\u001b[0m\u001b[1;33m)\u001b[0m \u001b[1;32mfor\u001b[0m \u001b[0marr\u001b[0m \u001b[1;32min\u001b[0m \u001b[0marrays\u001b[0m\u001b[1;33m\u001b[0m\u001b[1;33m\u001b[0m\u001b[0m\n\u001b[0;32m    286\u001b[0m         ]\n\u001b[1;32m--> 287\u001b[1;33m     \u001b[1;32mreturn\u001b[0m \u001b[0marrays_to_mgr\u001b[0m\u001b[1;33m(\u001b[0m\u001b[0marrays\u001b[0m\u001b[1;33m,\u001b[0m \u001b[0mdata_names\u001b[0m\u001b[1;33m,\u001b[0m \u001b[0mindex\u001b[0m\u001b[1;33m,\u001b[0m \u001b[0mcolumns\u001b[0m\u001b[1;33m,\u001b[0m \u001b[0mdtype\u001b[0m\u001b[1;33m=\u001b[0m\u001b[0mdtype\u001b[0m\u001b[1;33m)\u001b[0m\u001b[1;33m\u001b[0m\u001b[1;33m\u001b[0m\u001b[0m\n\u001b[0m\u001b[0;32m    288\u001b[0m \u001b[1;33m\u001b[0m\u001b[0m\n\u001b[0;32m    289\u001b[0m \u001b[1;33m\u001b[0m\u001b[0m\n",
      "\u001b[1;32m~\\anaconda3\\lib\\site-packages\\pandas\\core\\internals\\construction.py\u001b[0m in \u001b[0;36marrays_to_mgr\u001b[1;34m(arrays, arr_names, index, columns, dtype, verify_integrity)\u001b[0m\n\u001b[0;32m     78\u001b[0m         \u001b[1;31m# figure out the index, if necessary\u001b[0m\u001b[1;33m\u001b[0m\u001b[1;33m\u001b[0m\u001b[1;33m\u001b[0m\u001b[0m\n\u001b[0;32m     79\u001b[0m         \u001b[1;32mif\u001b[0m \u001b[0mindex\u001b[0m \u001b[1;32mis\u001b[0m \u001b[1;32mNone\u001b[0m\u001b[1;33m:\u001b[0m\u001b[1;33m\u001b[0m\u001b[1;33m\u001b[0m\u001b[0m\n\u001b[1;32m---> 80\u001b[1;33m             \u001b[0mindex\u001b[0m \u001b[1;33m=\u001b[0m \u001b[0mextract_index\u001b[0m\u001b[1;33m(\u001b[0m\u001b[0marrays\u001b[0m\u001b[1;33m)\u001b[0m\u001b[1;33m\u001b[0m\u001b[1;33m\u001b[0m\u001b[0m\n\u001b[0m\u001b[0;32m     81\u001b[0m         \u001b[1;32melse\u001b[0m\u001b[1;33m:\u001b[0m\u001b[1;33m\u001b[0m\u001b[1;33m\u001b[0m\u001b[0m\n\u001b[0;32m     82\u001b[0m             \u001b[0mindex\u001b[0m \u001b[1;33m=\u001b[0m \u001b[0mensure_index\u001b[0m\u001b[1;33m(\u001b[0m\u001b[0mindex\u001b[0m\u001b[1;33m)\u001b[0m\u001b[1;33m\u001b[0m\u001b[1;33m\u001b[0m\u001b[0m\n",
      "\u001b[1;32m~\\anaconda3\\lib\\site-packages\\pandas\\core\\internals\\construction.py\u001b[0m in \u001b[0;36mextract_index\u001b[1;34m(data)\u001b[0m\n\u001b[0;32m    389\u001b[0m \u001b[1;33m\u001b[0m\u001b[0m\n\u001b[0;32m    390\u001b[0m         \u001b[1;32mif\u001b[0m \u001b[1;32mnot\u001b[0m \u001b[0mindexes\u001b[0m \u001b[1;32mand\u001b[0m \u001b[1;32mnot\u001b[0m \u001b[0mraw_lengths\u001b[0m\u001b[1;33m:\u001b[0m\u001b[1;33m\u001b[0m\u001b[1;33m\u001b[0m\u001b[0m\n\u001b[1;32m--> 391\u001b[1;33m             \u001b[1;32mraise\u001b[0m \u001b[0mValueError\u001b[0m\u001b[1;33m(\u001b[0m\u001b[1;34m\"If using all scalar values, you must pass an index\"\u001b[0m\u001b[1;33m)\u001b[0m\u001b[1;33m\u001b[0m\u001b[1;33m\u001b[0m\u001b[0m\n\u001b[0m\u001b[0;32m    392\u001b[0m \u001b[1;33m\u001b[0m\u001b[0m\n\u001b[0;32m    393\u001b[0m         \u001b[1;32mif\u001b[0m \u001b[0mhave_series\u001b[0m\u001b[1;33m:\u001b[0m\u001b[1;33m\u001b[0m\u001b[1;33m\u001b[0m\u001b[0m\n",
      "\u001b[1;31mValueError\u001b[0m: If using all scalar values, you must pass an index"
     ]
    },
    {
     "data": {
      "text/plain": [
       "<Figure size 1080x1440 with 0 Axes>"
      ]
     },
     "metadata": {},
     "output_type": "display_data"
    }
   ],
   "source": [
    "plt.figure(figsize=(15,20))\n",
    "sns.countplot(df1.Venue)\n",
    "plt.xticks(rotation = 90)\n"
   ]
  },
  {
   "cell_type": "markdown",
   "metadata": {},
   "source": [
    "# ENCODING\n",
    "By sklearn labelling"
   ]
  },
  {
   "cell_type": "code",
   "execution_count": 34,
   "metadata": {
    "execution": {
     "iopub.execute_input": "2022-10-21T06:03:45.041844Z",
     "iopub.status.busy": "2022-10-21T06:03:45.041375Z",
     "iopub.status.idle": "2022-10-21T06:03:45.048628Z",
     "shell.execute_reply": "2022-10-21T06:03:45.047776Z",
     "shell.execute_reply.started": "2022-10-21T06:03:45.041797Z"
    }
   },
   "outputs": [
    {
     "data": {
      "text/plain": [
       "Index(['Match No', 'Group/Semi Final/Final', 'Match Between', 'Venue',\n",
       "       'Winning Team Score', 'Losing Team Score', 'Winner Team', 'Result',\n",
       "       'Player Of The Match', 'Runs&wicket', 'day', 'month', 'year'],\n",
       "      dtype='object')"
      ]
     },
     "execution_count": 34,
     "metadata": {},
     "output_type": "execute_result"
    }
   ],
   "source": [
    "df1.columns"
   ]
  },
  {
   "cell_type": "code",
   "execution_count": 35,
   "metadata": {
    "execution": {
     "iopub.execute_input": "2022-10-21T06:11:00.408790Z",
     "iopub.status.busy": "2022-10-21T06:11:00.408333Z",
     "iopub.status.idle": "2022-10-21T06:11:00.421350Z",
     "shell.execute_reply": "2022-10-21T06:11:00.420502Z",
     "shell.execute_reply.started": "2022-10-21T06:11:00.408744Z"
    }
   },
   "outputs": [],
   "source": [
    "lab= LabelEncoder()\n",
    "enc = lab.fit_transform(df1[\"Group/Semi Final/Final\"])\n",
    "df1[\"Group/Semi Final/Final\"] = enc\n",
    "\n",
    "lab= LabelEncoder()\n",
    "enc = lab.fit_transform(df1[\"Match Between\"])\n",
    "df1['Match Between'] = enc\n",
    "\n",
    "lab= LabelEncoder()\n",
    "enc = lab.fit_transform(df1['Venue'])\n",
    "df1['Venue'] = enc\n",
    "\n",
    "lab= LabelEncoder()\n",
    "enc = lab.fit_transform(df1['Winner Team'])\n",
    "df1['Winner Team'] = enc\n",
    "\n",
    "lab= LabelEncoder()\n",
    "enc = lab.fit_transform(df1['Player Of The Match'])\n",
    "df1['Player Of The Match'] = enc"
   ]
  },
  {
   "cell_type": "code",
   "execution_count": 36,
   "metadata": {
    "execution": {
     "iopub.execute_input": "2022-10-21T06:13:43.712111Z",
     "iopub.status.busy": "2022-10-21T06:13:43.711675Z",
     "iopub.status.idle": "2022-10-21T06:13:43.728130Z",
     "shell.execute_reply": "2022-10-21T06:13:43.726985Z",
     "shell.execute_reply.started": "2022-10-21T06:13:43.712076Z"
    }
   },
   "outputs": [
    {
     "data": {
      "text/html": [
       "<div>\n",
       "<style scoped>\n",
       "    .dataframe tbody tr th:only-of-type {\n",
       "        vertical-align: middle;\n",
       "    }\n",
       "\n",
       "    .dataframe tbody tr th {\n",
       "        vertical-align: top;\n",
       "    }\n",
       "\n",
       "    .dataframe thead th {\n",
       "        text-align: right;\n",
       "    }\n",
       "</style>\n",
       "<table border=\"1\" class=\"dataframe\">\n",
       "  <thead>\n",
       "    <tr style=\"text-align: right;\">\n",
       "      <th></th>\n",
       "      <th>Match No</th>\n",
       "      <th>Group/Semi Final/Final</th>\n",
       "      <th>Match Between</th>\n",
       "      <th>Venue</th>\n",
       "      <th>Winning Team Score</th>\n",
       "      <th>Losing Team Score</th>\n",
       "      <th>Winner Team</th>\n",
       "      <th>Result</th>\n",
       "      <th>Player Of The Match</th>\n",
       "      <th>Runs&amp;wicket</th>\n",
       "      <th>day</th>\n",
       "      <th>month</th>\n",
       "      <th>year</th>\n",
       "    </tr>\n",
       "  </thead>\n",
       "  <tbody>\n",
       "    <tr>\n",
       "      <th>0</th>\n",
       "      <td>1</td>\n",
       "      <td>5</td>\n",
       "      <td>94</td>\n",
       "      <td>21</td>\n",
       "      <td>208</td>\n",
       "      <td>205</td>\n",
       "      <td>12</td>\n",
       "      <td>8</td>\n",
       "      <td>20</td>\n",
       "      <td>1</td>\n",
       "      <td>9</td>\n",
       "      <td>11</td>\n",
       "      <td>2007</td>\n",
       "    </tr>\n",
       "    <tr>\n",
       "      <th>1</th>\n",
       "      <td>2</td>\n",
       "      <td>7</td>\n",
       "      <td>59</td>\n",
       "      <td>8</td>\n",
       "      <td>74</td>\n",
       "      <td>73</td>\n",
       "      <td>8</td>\n",
       "      <td>9</td>\n",
       "      <td>62</td>\n",
       "      <td>1</td>\n",
       "      <td>9</td>\n",
       "      <td>12</td>\n",
       "      <td>2007</td>\n",
       "    </tr>\n",
       "    <tr>\n",
       "      <th>2</th>\n",
       "      <td>3</td>\n",
       "      <td>8</td>\n",
       "      <td>81</td>\n",
       "      <td>8</td>\n",
       "      <td>171</td>\n",
       "      <td>120</td>\n",
       "      <td>10</td>\n",
       "      <td>51</td>\n",
       "      <td>97</td>\n",
       "      <td>0</td>\n",
       "      <td>9</td>\n",
       "      <td>12</td>\n",
       "      <td>2007</td>\n",
       "    </tr>\n",
       "    <tr>\n",
       "      <th>3</th>\n",
       "      <td>4</td>\n",
       "      <td>6</td>\n",
       "      <td>17</td>\n",
       "      <td>12</td>\n",
       "      <td>139</td>\n",
       "      <td>138</td>\n",
       "      <td>16</td>\n",
       "      <td>5</td>\n",
       "      <td>15</td>\n",
       "      <td>1</td>\n",
       "      <td>9</td>\n",
       "      <td>12</td>\n",
       "      <td>2007</td>\n",
       "    </tr>\n",
       "    <tr>\n",
       "      <th>4</th>\n",
       "      <td>5</td>\n",
       "      <td>5</td>\n",
       "      <td>29</td>\n",
       "      <td>21</td>\n",
       "      <td>165</td>\n",
       "      <td>164</td>\n",
       "      <td>2</td>\n",
       "      <td>6</td>\n",
       "      <td>71</td>\n",
       "      <td>1</td>\n",
       "      <td>13</td>\n",
       "      <td>9</td>\n",
       "      <td>2007</td>\n",
       "    </tr>\n",
       "  </tbody>\n",
       "</table>\n",
       "</div>"
      ],
      "text/plain": [
       "   Match No  Group/Semi Final/Final  Match Between  Venue  Winning Team Score  \\\n",
       "0         1                       5             94     21                 208   \n",
       "1         2                       7             59      8                  74   \n",
       "2         3                       8             81      8                 171   \n",
       "3         4                       6             17     12                 139   \n",
       "4         5                       5             29     21                 165   \n",
       "\n",
       "   Losing Team Score  Winner Team Result  Player Of The Match  Runs&wicket  \\\n",
       "0                205           12      8                   20            1   \n",
       "1                 73            8      9                   62            1   \n",
       "2                120           10     51                   97            0   \n",
       "3                138           16      5                   15            1   \n",
       "4                164            2      6                   71            1   \n",
       "\n",
       "   day  month  year  \n",
       "0    9     11  2007  \n",
       "1    9     12  2007  \n",
       "2    9     12  2007  \n",
       "3    9     12  2007  \n",
       "4   13      9  2007  "
      ]
     },
     "execution_count": 36,
     "metadata": {},
     "output_type": "execute_result"
    }
   ],
   "source": [
    "df1.head()"
   ]
  },
  {
   "cell_type": "code",
   "execution_count": 55,
   "metadata": {
    "execution": {
     "iopub.execute_input": "2022-10-21T06:18:20.096616Z",
     "iopub.status.busy": "2022-10-21T06:18:20.096206Z",
     "iopub.status.idle": "2022-10-21T06:18:20.104066Z",
     "shell.execute_reply": "2022-10-21T06:18:20.102736Z",
     "shell.execute_reply.started": "2022-10-21T06:18:20.096581Z"
    }
   },
   "outputs": [],
   "source": [
    "x = df1.drop([\"Winning Team Score\",\"day\",\"month\",\"year\"],axis = 1)\n",
    "y=df1[\"Winning Team Score\"]"
   ]
  },
  {
   "cell_type": "code",
   "execution_count": 56,
   "metadata": {
    "execution": {
     "iopub.execute_input": "2022-10-21T06:19:34.294776Z",
     "iopub.status.busy": "2022-10-21T06:19:34.294364Z",
     "iopub.status.idle": "2022-10-21T06:19:34.301659Z",
     "shell.execute_reply": "2022-10-21T06:19:34.300399Z",
     "shell.execute_reply.started": "2022-10-21T06:19:34.294743Z"
    }
   },
   "outputs": [],
   "source": [
    "x_train,x_test,y_train,y_test = train_test_split(x,y, test_size=0.4, random_state=123, shuffle=True)"
   ]
  },
  {
   "cell_type": "code",
   "execution_count": 57,
   "metadata": {
    "execution": {
     "iopub.execute_input": "2022-10-21T06:27:34.738652Z",
     "iopub.status.busy": "2022-10-21T06:27:34.738226Z",
     "iopub.status.idle": "2022-10-21T06:27:34.753067Z",
     "shell.execute_reply": "2022-10-21T06:27:34.751846Z",
     "shell.execute_reply.started": "2022-10-21T06:27:34.738614Z"
    }
   },
   "outputs": [],
   "source": [
    "#scaler = StandardScaler()\n",
    "#x_train[x_train.columns] = scaler.fit_transform(x_train[x_train.columns])"
   ]
  },
  {
   "cell_type": "code",
   "execution_count": 58,
   "metadata": {
    "execution": {
     "iopub.execute_input": "2022-10-21T06:27:43.743789Z",
     "iopub.status.busy": "2022-10-21T06:27:43.743288Z",
     "iopub.status.idle": "2022-10-21T06:27:43.769602Z",
     "shell.execute_reply": "2022-10-21T06:27:43.768242Z",
     "shell.execute_reply.started": "2022-10-21T06:27:43.743754Z"
    }
   },
   "outputs": [
    {
     "data": {
      "text/html": [
       "<div>\n",
       "<style scoped>\n",
       "    .dataframe tbody tr th:only-of-type {\n",
       "        vertical-align: middle;\n",
       "    }\n",
       "\n",
       "    .dataframe tbody tr th {\n",
       "        vertical-align: top;\n",
       "    }\n",
       "\n",
       "    .dataframe thead th {\n",
       "        text-align: right;\n",
       "    }\n",
       "</style>\n",
       "<table border=\"1\" class=\"dataframe\">\n",
       "  <thead>\n",
       "    <tr style=\"text-align: right;\">\n",
       "      <th></th>\n",
       "      <th>Match No</th>\n",
       "      <th>Group/Semi Final/Final</th>\n",
       "      <th>Match Between</th>\n",
       "      <th>Venue</th>\n",
       "      <th>Losing Team Score</th>\n",
       "      <th>Winner Team</th>\n",
       "      <th>Result</th>\n",
       "      <th>Player Of The Match</th>\n",
       "      <th>Runs&amp;wicket</th>\n",
       "    </tr>\n",
       "  </thead>\n",
       "  <tbody>\n",
       "    <tr>\n",
       "      <th>25</th>\n",
       "      <td>26</td>\n",
       "      <td>1</td>\n",
       "      <td>102</td>\n",
       "      <td>6</td>\n",
       "      <td>101</td>\n",
       "      <td>13</td>\n",
       "      <td>57</td>\n",
       "      <td>109</td>\n",
       "      <td>0</td>\n",
       "    </tr>\n",
       "    <tr>\n",
       "      <th>23</th>\n",
       "      <td>24</td>\n",
       "      <td>10</td>\n",
       "      <td>105</td>\n",
       "      <td>2</td>\n",
       "      <td>105</td>\n",
       "      <td>1</td>\n",
       "      <td>6</td>\n",
       "      <td>103</td>\n",
       "      <td>1</td>\n",
       "    </tr>\n",
       "    <tr>\n",
       "      <th>26</th>\n",
       "      <td>27</td>\n",
       "      <td>11</td>\n",
       "      <td>94</td>\n",
       "      <td>23</td>\n",
       "      <td>122</td>\n",
       "      <td>15</td>\n",
       "      <td>3</td>\n",
       "      <td>63</td>\n",
       "      <td>1</td>\n",
       "    </tr>\n",
       "    <tr>\n",
       "      <th>4</th>\n",
       "      <td>5</td>\n",
       "      <td>7</td>\n",
       "      <td>51</td>\n",
       "      <td>2</td>\n",
       "      <td>172</td>\n",
       "      <td>4</td>\n",
       "      <td>14</td>\n",
       "      <td>106</td>\n",
       "      <td>0</td>\n",
       "    </tr>\n",
       "    <tr>\n",
       "      <th>5</th>\n",
       "      <td>6</td>\n",
       "      <td>6</td>\n",
       "      <td>40</td>\n",
       "      <td>12</td>\n",
       "      <td>138</td>\n",
       "      <td>3</td>\n",
       "      <td>50</td>\n",
       "      <td>53</td>\n",
       "      <td>0</td>\n",
       "    </tr>\n",
       "  </tbody>\n",
       "</table>\n",
       "</div>"
      ],
      "text/plain": [
       "    Match No  Group/Semi Final/Final  Match Between  Venue  Losing Team Score  \\\n",
       "25        26                       1            102      6                101   \n",
       "23        24                      10            105      2                105   \n",
       "26        27                      11             94     23                122   \n",
       "4          5                       7             51      2                172   \n",
       "5          6                       6             40     12                138   \n",
       "\n",
       "    Winner Team Result  Player Of The Match  Runs&wicket  \n",
       "25           13     57                  109            0  \n",
       "23            1      6                  103            1  \n",
       "26           15      3                   63            1  \n",
       "4             4     14                  106            0  \n",
       "5             3     50                   53            0  "
      ]
     },
     "execution_count": 58,
     "metadata": {},
     "output_type": "execute_result"
    }
   ],
   "source": [
    "x_train.head()"
   ]
  },
  {
   "cell_type": "code",
   "execution_count": 59,
   "metadata": {
    "execution": {
     "iopub.execute_input": "2022-10-21T06:34:41.130657Z",
     "iopub.status.busy": "2022-10-21T06:34:41.130261Z",
     "iopub.status.idle": "2022-10-21T06:34:41.152670Z",
     "shell.execute_reply": "2022-10-21T06:34:41.151561Z",
     "shell.execute_reply.started": "2022-10-21T06:34:41.130626Z"
    }
   },
   "outputs": [
    {
     "data": {
      "text/html": [
       "<style>#sk-container-id-4 {color: black;background-color: white;}#sk-container-id-4 pre{padding: 0;}#sk-container-id-4 div.sk-toggleable {background-color: white;}#sk-container-id-4 label.sk-toggleable__label {cursor: pointer;display: block;width: 100%;margin-bottom: 0;padding: 0.3em;box-sizing: border-box;text-align: center;}#sk-container-id-4 label.sk-toggleable__label-arrow:before {content: \"▸\";float: left;margin-right: 0.25em;color: #696969;}#sk-container-id-4 label.sk-toggleable__label-arrow:hover:before {color: black;}#sk-container-id-4 div.sk-estimator:hover label.sk-toggleable__label-arrow:before {color: black;}#sk-container-id-4 div.sk-toggleable__content {max-height: 0;max-width: 0;overflow: hidden;text-align: left;background-color: #f0f8ff;}#sk-container-id-4 div.sk-toggleable__content pre {margin: 0.2em;color: black;border-radius: 0.25em;background-color: #f0f8ff;}#sk-container-id-4 input.sk-toggleable__control:checked~div.sk-toggleable__content {max-height: 200px;max-width: 100%;overflow: auto;}#sk-container-id-4 input.sk-toggleable__control:checked~label.sk-toggleable__label-arrow:before {content: \"▾\";}#sk-container-id-4 div.sk-estimator input.sk-toggleable__control:checked~label.sk-toggleable__label {background-color: #d4ebff;}#sk-container-id-4 div.sk-label input.sk-toggleable__control:checked~label.sk-toggleable__label {background-color: #d4ebff;}#sk-container-id-4 input.sk-hidden--visually {border: 0;clip: rect(1px 1px 1px 1px);clip: rect(1px, 1px, 1px, 1px);height: 1px;margin: -1px;overflow: hidden;padding: 0;position: absolute;width: 1px;}#sk-container-id-4 div.sk-estimator {font-family: monospace;background-color: #f0f8ff;border: 1px dotted black;border-radius: 0.25em;box-sizing: border-box;margin-bottom: 0.5em;}#sk-container-id-4 div.sk-estimator:hover {background-color: #d4ebff;}#sk-container-id-4 div.sk-parallel-item::after {content: \"\";width: 100%;border-bottom: 1px solid gray;flex-grow: 1;}#sk-container-id-4 div.sk-label:hover label.sk-toggleable__label {background-color: #d4ebff;}#sk-container-id-4 div.sk-serial::before {content: \"\";position: absolute;border-left: 1px solid gray;box-sizing: border-box;top: 0;bottom: 0;left: 50%;z-index: 0;}#sk-container-id-4 div.sk-serial {display: flex;flex-direction: column;align-items: center;background-color: white;padding-right: 0.2em;padding-left: 0.2em;position: relative;}#sk-container-id-4 div.sk-item {position: relative;z-index: 1;}#sk-container-id-4 div.sk-parallel {display: flex;align-items: stretch;justify-content: center;background-color: white;position: relative;}#sk-container-id-4 div.sk-item::before, #sk-container-id-4 div.sk-parallel-item::before {content: \"\";position: absolute;border-left: 1px solid gray;box-sizing: border-box;top: 0;bottom: 0;left: 50%;z-index: -1;}#sk-container-id-4 div.sk-parallel-item {display: flex;flex-direction: column;z-index: 1;position: relative;background-color: white;}#sk-container-id-4 div.sk-parallel-item:first-child::after {align-self: flex-end;width: 50%;}#sk-container-id-4 div.sk-parallel-item:last-child::after {align-self: flex-start;width: 50%;}#sk-container-id-4 div.sk-parallel-item:only-child::after {width: 0;}#sk-container-id-4 div.sk-dashed-wrapped {border: 1px dashed gray;margin: 0 0.4em 0.5em 0.4em;box-sizing: border-box;padding-bottom: 0.4em;background-color: white;}#sk-container-id-4 div.sk-label label {font-family: monospace;font-weight: bold;display: inline-block;line-height: 1.2em;}#sk-container-id-4 div.sk-label-container {text-align: center;}#sk-container-id-4 div.sk-container {/* jupyter's `normalize.less` sets `[hidden] { display: none; }` but bootstrap.min.css set `[hidden] { display: none !important; }` so we also need the `!important` here to be able to override the default hidden behavior on the sphinx rendered scikit-learn.org. See: https://github.com/scikit-learn/scikit-learn/issues/21755 */display: inline-block !important;position: relative;}#sk-container-id-4 div.sk-text-repr-fallback {display: none;}</style><div id=\"sk-container-id-4\" class=\"sk-top-container\"><div class=\"sk-text-repr-fallback\"><pre>Ridge(alpha=5.0, random_state=1)</pre><b>In a Jupyter environment, please rerun this cell to show the HTML representation or trust the notebook. <br />On GitHub, the HTML representation is unable to render, please try loading this page with nbviewer.org.</b></div><div class=\"sk-container\" hidden><div class=\"sk-item\"><div class=\"sk-estimator sk-toggleable\"><input class=\"sk-toggleable__control sk-hidden--visually\" id=\"sk-estimator-id-4\" type=\"checkbox\" checked><label for=\"sk-estimator-id-4\" class=\"sk-toggleable__label sk-toggleable__label-arrow\">Ridge</label><div class=\"sk-toggleable__content\"><pre>Ridge(alpha=5.0, random_state=1)</pre></div></div></div></div></div>"
      ],
      "text/plain": [
       "Ridge(alpha=5.0, random_state=1)"
      ]
     },
     "execution_count": 59,
     "metadata": {},
     "output_type": "execute_result"
    }
   ],
   "source": [
    "from sklearn.linear_model import Ridge\n",
    "\n",
    "ridge = Ridge(alpha=5.0, random_state=1)\n",
    "ridge.fit(x_train,y_train)"
   ]
  },
  {
   "cell_type": "code",
   "execution_count": 61,
   "metadata": {},
   "outputs": [],
   "source": [
    "pred = ridge.predict(x_test)"
   ]
  },
  {
   "cell_type": "code",
   "execution_count": 62,
   "metadata": {
    "execution": {
     "iopub.execute_input": "2022-10-21T06:35:40.036474Z",
     "iopub.status.busy": "2022-10-21T06:35:40.036064Z",
     "iopub.status.idle": "2022-10-21T06:35:40.056443Z",
     "shell.execute_reply": "2022-10-21T06:35:40.054827Z",
     "shell.execute_reply.started": "2022-10-21T06:35:40.036433Z"
    }
   },
   "outputs": [
    {
     "data": {
      "text/plain": [
       "array([190.02851858, 124.19532148, 129.13129157, 166.82911796,\n",
       "       157.54576009, 142.88206694, 158.79037154, 157.09788512,\n",
       "       156.29976796, 185.10241051, 146.53970405, 162.80151134,\n",
       "       157.01302744, 210.92560696, 187.54696144, 158.94468238,\n",
       "        41.91049566, 130.72873827, 143.66660874, 182.57688638,\n",
       "        86.30606689, 232.29586891, 114.68062337, 150.68329316,\n",
       "       174.48056052, 129.92031244,  98.44128112, 131.94314151,\n",
       "       156.52872134, 137.44466505, 146.23050625, 142.0562356 ,\n",
       "       129.70341939, 134.27005711, 187.06733263, 188.82472108,\n",
       "       135.08180965, 149.0294137 , 207.20508999, 114.64716893,\n",
       "       137.59168281, 127.48569568, 106.65714177, 131.41557419,\n",
       "       171.92287435, 189.80425578, 163.6969726 , 154.75148679,\n",
       "       157.17729083, 113.40246599, 145.28261572, 180.29365013,\n",
       "       178.86475552, 150.78451027, 163.20038586, 102.21470978,\n",
       "       198.19506217, 131.34319348, 157.08956851, 196.34097921,\n",
       "       148.42333661, 129.97895082, 143.68817963, 202.54576946,\n",
       "       147.1869543 , 147.71215113,  82.98249201, 112.34373224,\n",
       "       150.65428729, 213.11811307, 190.87093839, 170.99081578,\n",
       "       185.66320352])"
      ]
     },
     "execution_count": 62,
     "metadata": {},
     "output_type": "execute_result"
    }
   ],
   "source": [
    "pred"
   ]
  },
  {
   "cell_type": "code",
   "execution_count": null,
   "metadata": {},
   "outputs": [],
   "source": []
  }
 ],
 "metadata": {
  "kernelspec": {
   "display_name": "Python 3",
   "language": "python",
   "name": "python3"
  },
  "language_info": {
   "codemirror_mode": {
    "name": "ipython",
    "version": 3
   },
   "file_extension": ".py",
   "mimetype": "text/x-python",
   "name": "python",
   "nbconvert_exporter": "python",
   "pygments_lexer": "ipython3",
   "version": "3.8.8"
  }
 },
 "nbformat": 4,
 "nbformat_minor": 4
}
